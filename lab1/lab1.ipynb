{
 "cells": [
  {
   "cell_type": "markdown",
   "metadata": {},
   "source": [
    "# Лабораторная работа №1"
   ]
  },
  {
   "cell_type": "code",
   "execution_count": 1,
   "metadata": {},
   "outputs": [],
   "source": [
    "import pandas as pd\n",
    "import numpy as np\n",
    "from scipy import sparse\n",
    "import optuna\n",
    "from matplotlib import pyplot as plt"
   ]
  },
  {
   "cell_type": "markdown",
   "metadata": {},
   "source": [
    "## Чтение данных"
   ]
  },
  {
   "cell_type": "code",
   "execution_count": 2,
   "metadata": {},
   "outputs": [],
   "source": [
    "train_df = pd.read_parquet('./data/train.parquet')\n",
    "test_df = pd.read_parquet('./data/test.parquet')"
   ]
  },
  {
   "cell_type": "code",
   "execution_count": 3,
   "metadata": {},
   "outputs": [],
   "source": [
    "labels = train_df.target\n",
    "train_data = train_df[['Title', 'Body']]\n",
    "test_data = test_df[['Title', 'Body']]"
   ]
  },
  {
   "cell_type": "markdown",
   "metadata": {},
   "source": [
    "## Обработка тегов\n",
    "Каждый пост содержит несколько тегов. Преобразуем стоки тегов в столбцы, в каждом из которых будет один тег (аля One Hot Enconding)"
   ]
  },
  {
   "cell_type": "code",
   "execution_count": 4,
   "metadata": {},
   "outputs": [],
   "source": [
    "def split_tags(text):\n",
    "    return text[1: -1].split('><')\n",
    "\n",
    "tags = pd.concat([train_df['Tags'], test_df['Tags']])\n",
    "tags = tags.apply(lambda x: split_tags(x))"
   ]
  },
  {
   "cell_type": "code",
   "execution_count": 5,
   "metadata": {},
   "outputs": [],
   "source": [
    "unique_tags = []\n",
    "for _, value in tags.items():\n",
    "    unique_tags += value\n",
    "unique_tags, tags_counts = np.unique(unique_tags, return_counts=True)"
   ]
  },
  {
   "cell_type": "code",
   "execution_count": 6,
   "metadata": {},
   "outputs": [
    {
     "name": "stdout",
     "output_type": "stream",
     "text": [
      "Всего уникальных тегов: 10703\n"
     ]
    }
   ],
   "source": [
    "print(f'Всего уникальных тегов: {len(unique_tags)}')"
   ]
  },
  {
   "cell_type": "markdown",
   "metadata": {},
   "source": [
    "А теперь отсортируем все теги почастоте встречаемости и оставим 1000 самых популярных"
   ]
  },
  {
   "cell_type": "code",
   "execution_count": 7,
   "metadata": {},
   "outputs": [],
   "source": [
    "sorted_idxs = np.argsort(tags_counts)[::-1]\n",
    "tags_counts = tags_counts[sorted_idxs]\n",
    "unique_tags = unique_tags[sorted_idxs]"
   ]
  },
  {
   "cell_type": "code",
   "execution_count": 22,
   "metadata": {},
   "outputs": [
    {
     "data": {
      "image/png": "[encoded data removed]",
      "text/plain": [
       "<Figure size 432x288 with 1 Axes>"
      ]
     },
     "metadata": {
      "needs_background": "light"
     },
     "output_type": "display_data"
    }
   ],
   "source": [
    "plt.plot(np.arange(2000), tags_counts[:2000])\n",
    "plt.show()"
   ]
  },
  {
   "cell_type": "code",
   "execution_count": 23,
   "metadata": {},
   "outputs": [],
   "source": [
    "n_tags = 1000\n",
    "n_train, n_test = train_data.shape[0], test_data.shape[0]\n",
    "top_tags = unique_tags[:n_tags]\n",
    "tags_features = np.zeros((n_train + n_test, n_tags), dtype=np.int8)\n",
    "\n",
    "for i, (_, tags_list) in enumerate(tags.items()):\n",
    "    for j, tag in enumerate(top_tags):\n",
    "        if tag in tags_list:\n",
    "            tags_features[i: j] = 1\n",
    "\n",
    "tags_train = tags_features[:n_train]\n",
    "tags_test = tags_features[n_train:]"
   ]
  },
  {
   "cell_type": "code",
   "execution_count": 24,
   "metadata": {},
   "outputs": [],
   "source": [
    "tags_train_csr = sparse.csr_matrix(tags_features[:n_train])\n",
    "tags_test_csr = sparse.csr_matrix(tags_features[n_train:])"
   ]
  },
  {
   "cell_type": "markdown",
   "metadata": {},
   "source": [
    "## EDA\n",
    "Распределение классов равномерое, так что никаких дополнительных действий по баласировке не требуется"
   ]
  },
  {
   "cell_type": "code",
   "execution_count": 25,
   "metadata": {},
   "outputs": [
    {
     "data": {
      "image/png": "[encoded data removed]",
      "text/plain": [
       "<Figure size 432x288 with 1 Axes>"
      ]
     },
     "metadata": {
      "needs_background": "light"
     },
     "output_type": "display_data"
    }
   ],
   "source": [
    "plt.hist(labels)\n",
    "plt.show()"
   ]
  },
  {
   "cell_type": "markdown",
   "metadata": {},
   "source": [
    "## Train-test Split"
   ]
  },
  {
   "cell_type": "code",
   "execution_count": 26,
   "metadata": {},
   "outputs": [],
   "source": [
    "from sklearn.model_selection import train_test_split\n",
    "x_train, x_val, x_train_tags, x_val_tags, y_train, y_val = train_test_split(train_data, tags_train, labels, test_size=.1, stratify=labels, random_state=0)"
   ]
  },
  {
   "cell_type": "markdown",
   "metadata": {},
   "source": [
    "## Preprocessing"
   ]
  },
  {
   "cell_type": "markdown",
   "metadata": {},
   "source": [
    "### BOW"
   ]
  },
  {
   "cell_type": "code",
   "execution_count": 27,
   "metadata": {},
   "outputs": [],
   "source": [
    "from sklearn.feature_extraction.text import CountVectorizer\n",
    "\n",
    "def apply_bow(train_data, test_data):\n",
    "    bow = CountVectorizer()\n",
    "    train_bow = bow.fit_transform(train_data)\n",
    "    test_bow= bow.transform(test_data)\n",
    "    return train_bow, test_bow"
   ]
  },
  {
   "cell_type": "code",
   "execution_count": 28,
   "metadata": {},
   "outputs": [],
   "source": [
    "x_train_title_bow, x_val_title_bow = apply_bow(x_train.Title, x_val.Title)\n",
    "x_train_body_bow, x_val_body_bow = apply_bow(x_train.Body, x_val.Body)"
   ]
  },
  {
   "cell_type": "code",
   "execution_count": 29,
   "metadata": {},
   "outputs": [],
   "source": [
    "x_train_bow = sparse.hstack([x_train_title_bow, x_train_body_bow, x_train_tags])\n",
    "x_val_bow = sparse.hstack([x_val_title_bow, x_val_body_bow, x_val_tags])"
   ]
  },
  {
   "cell_type": "markdown",
   "metadata": {},
   "source": [
    "### TF-IDF"
   ]
  },
  {
   "cell_type": "code",
   "execution_count": 30,
   "metadata": {},
   "outputs": [],
   "source": [
    "from sklearn.feature_extraction.text import TfidfVectorizer\n",
    "\n",
    "def apply_tfidf(train_data, test_data):\n",
    "    tfidf = TfidfVectorizer()\n",
    "    train_tfidf = tfidf.fit_transform(train_data)\n",
    "    test_tfidf = tfidf.transform(test_data)\n",
    "    return train_tfidf, test_tfidf"
   ]
  },
  {
   "cell_type": "code",
   "execution_count": 31,
   "metadata": {},
   "outputs": [],
   "source": [
    "x_train_title_tfidf, x_val_title_tfidf = apply_tfidf(x_train.Title, x_val.Title)\n",
    "x_train_body_tfidf, x_val_body_tfidf = apply_tfidf(x_train.Body, x_val.Body)"
   ]
  },
  {
   "cell_type": "code",
   "execution_count": 32,
   "metadata": {},
   "outputs": [],
   "source": [
    "x_train_tfidf = sparse.hstack([x_train_title_tfidf, x_train_body_tfidf, x_train_tags])\n",
    "x_val_tfidf = sparse.hstack([x_val_title_tfidf, x_val_body_tfidf, x_val_tags])"
   ]
  },
  {
   "cell_type": "markdown",
   "metadata": {},
   "source": [
    "### Word2Vec"
   ]
  },
  {
   "cell_type": "code",
   "execution_count": 33,
   "metadata": {},
   "outputs": [],
   "source": [
    "from gensim import downloader\n",
    "w2v_model = downloader.load('word2vec-google-news-300')"
   ]
  },
  {
   "cell_type": "code",
   "execution_count": 34,
   "metadata": {},
   "outputs": [],
   "source": [
    "def sentence2vec(sentence, model):\n",
    "    vecs = []\n",
    "    for word in sentence.split(' '):\n",
    "        try:\n",
    "            vecs.append(w2v_model.get_vector(word.lower()))\n",
    "        except:\n",
    "            pass\n",
    "    if len(vecs) == 0:\n",
    "        vecs = [np.zeros(300)]\n",
    "    return sum(vecs) / len(vecs)\n",
    "\n",
    "def apply_word2vec(data):\n",
    "    title = np.array([sentence2vec(sentence, w2v_model) for sentence in data['Title']])\n",
    "    body = np.array([sentence2vec(sentence, w2v_model) for sentence in data['Body']])\n",
    "    return np.hstack([title, body])"
   ]
  },
  {
   "cell_type": "code",
   "execution_count": 35,
   "metadata": {},
   "outputs": [],
   "source": [
    "x_train_w2v = np.hstack([apply_word2vec(x_train), x_train_tags])\n",
    "x_val_w2v = np.hstack([apply_word2vec(x_val), x_val_tags])"
   ]
  },
  {
   "cell_type": "markdown",
   "metadata": {},
   "source": [
    "### Glove"
   ]
  },
  {
   "cell_type": "code",
   "execution_count": 36,
   "metadata": {},
   "outputs": [
    {
     "name": "stdout",
     "output_type": "stream",
     "text": [
      "[==================================================] 100.0% 376.1/376.1MB downloaded\n"
     ]
    }
   ],
   "source": [
    "glove_model = downloader.load('glove-wiki-gigaword-300')"
   ]
  },
  {
   "cell_type": "code",
   "execution_count": 37,
   "metadata": {},
   "outputs": [],
   "source": [
    "def apply_glove(data):\n",
    "    title = np.array([sentence2vec(sentence, glove_model) for sentence in data['Title']])\n",
    "    body = np.array([sentence2vec(sentence, glove_model) for sentence in data['Body']])\n",
    "    return np.hstack([title, body])"
   ]
  },
  {
   "cell_type": "code",
   "execution_count": 38,
   "metadata": {},
   "outputs": [],
   "source": [
    "x_train_glove = np.hstack([apply_glove(x_train), x_train_tags])\n",
    "x_val_glove = np.hstack([apply_glove(x_val), x_val_tags])"
   ]
  },
  {
   "cell_type": "markdown",
   "metadata": {},
   "source": [
    "## Classical ML"
   ]
  },
  {
   "cell_type": "markdown",
   "metadata": {},
   "source": [
    "Подготовим инфраструктуру для валидации моделей и подбора лучших параметров. Из алгоритмов будем использовать логистическую регрссию и ансамбль kNN + Random Forest + LogReg"
   ]
  },
  {
   "cell_type": "code",
   "execution_count": 42,
   "metadata": {},
   "outputs": [],
   "source": [
    "from sklearn.ensemble import StackingClassifier\n",
    "\n",
    "def get_log_reg(trial=None, C=1):\n",
    "    from sklearn.linear_model import LogisticRegression\n",
    "\n",
    "    if trial is not None:\n",
    "        C = trial.suggest_loguniform('C', 1e-5, 1e+3)\n",
    "\n",
    "    return LogisticRegression(C=C, max_iter=10000, random_state=0)\n",
    "\n",
    "def get_stacking(trial=None,\n",
    "                 n_neighbors=5,\n",
    "                 n_estimators=100, min_samples_split=2, min_samples_leaf=1,\n",
    "                 C=1):\n",
    "    from sklearn.neighbors import KNeighborsClassifier\n",
    "    from sklearn.ensemble import RandomForestClassifier\n",
    "    from sklearn.linear_model import LogisticRegression\n",
    "\n",
    "    if trial is not None:\n",
    "        n_neighbors = trial.suggest_int('n_neighbors', 5, 100)\n",
    "        n_estimators = trial.suggest_int('n_estimators', 50, 500)\n",
    "        min_samples_split = trial.suggest_int('min_samples_split', 2, 10)\n",
    "        min_samples_leaf = trial.suggest_int('min_samples_leaf', 1, 10)\n",
    "        C = trial.suggest_loguniform('C', 1e-5, 1e+3)\n",
    "\n",
    "    estimators = [\n",
    "        ('knn', KNeighborsClassifier(n_neighbors=n_neighbors)),\n",
    "        ('rf', RandomForestClassifier(n_estimators=n_estimators, min_samples_split=min_samples_split,\n",
    "                                      min_samples_leaf=min_samples_leaf, random_state=0))\n",
    "    ]\n",
    "    final = LogisticRegression(C=C, max_iter=10000, random_state=0)\n",
    "\n",
    "    return StackingClassifier(estimators=estimators, final_estimator=final)"
   ]
  },
  {
   "cell_type": "code",
   "execution_count": 40,
   "metadata": {},
   "outputs": [],
   "source": [
    "from sklearn.metrics import accuracy_score\n",
    "\n",
    "def objective_function(estimator_func, train_data, train_labels, test_data, test_labels=None, trial=None):\n",
    "    estimator = estimator_func(trial=trial).fit(train_data, train_labels)\n",
    "    if test_labels is not None:\n",
    "        prediction = estimator.predict(test_data)\n",
    "        return accuracy_score(test_labels, prediction)\n",
    "    else:\n",
    "        return estimator.predict(test_data)"
   ]
  },
  {
   "cell_type": "code",
   "execution_count": 41,
   "metadata": {},
   "outputs": [],
   "source": [
    "def optimize(estimator_func, train_data, train_labels, test_data, test_labels, n_trials=10):\n",
    "    study = optuna.create_study(sampler=optuna.samplers.TPESampler(seed=123),\n",
    "                                direction='maximize',\n",
    "                                pruner=optuna.pruners.HyperbandPruner())\n",
    "    objective = lambda trial: objective_function(estimator_func, train_data, train_labels, test_data, test_labels, trial)\n",
    "    study.optimize(objective, n_trials=n_trials, show_progress_bar=True)\n",
    "    return study"
   ]
  },
  {
   "cell_type": "markdown",
   "metadata": {},
   "source": [
    "## LogReg"
   ]
  },
  {
   "cell_type": "code",
   "execution_count": 44,
   "metadata": {},
   "outputs": [],
   "source": [
    "validation_data = [\n",
    "    (x_train_bow, x_val_bow),\n",
    "    (x_train_tfidf, x_val_tfidf),\n",
    "    (x_train_w2v, x_val_w2v),\n",
    "    (x_train_glove, x_val_glove),\n",
    "]\n",
    "validation_names = ['bow', 'tfidf', 'word2vec', 'glove']"
   ]
  },
  {
   "cell_type": "code",
   "execution_count": 45,
   "metadata": {},
   "outputs": [
    {
     "name": "stderr",
     "output_type": "stream",
     "text": [
      "\u001b[32m[I 2021-12-04 13:35:27,457]\u001b[0m A new study created in memory with name: no-name-997cf3ed-39af-4a0b-9ac5-b71bbc3203fa\u001b[0m\n",
      "C:\\Users\\nikti\\miniconda3\\envs\\nlp\\lib\\site-packages\\optuna\\progress_bar.py:47: ExperimentalWarning: Progress bar is experimental (supported from v1.2.0). The interface can change in the future.\n",
      "  self._init_valid()\n",
      " 10%|█         | 1/10 [03:21<30:11, 201.25s/it]"
     ]
    },
    {
     "name": "stdout",
     "output_type": "stream",
     "text": [
      "\u001b[32m[I 2021-12-04 13:38:48,708]\u001b[0m Trial 0 finished with value: 0.8039583333333333 and parameters: {'C': 3.730383528143731}. Best is trial 0 with value: 0.8039583333333333.\u001b[0m\n"
     ]
    },
    {
     "name": "stderr",
     "output_type": "stream",
     "text": [
      " 20%|██        | 2/10 [03:38<12:22, 92.85s/it] "
     ]
    },
    {
     "name": "stdout",
     "output_type": "stream",
     "text": [
      "\u001b[32m[I 2021-12-04 13:39:05,685]\u001b[0m Trial 1 finished with value: 0.8185416666666666 and parameters: {'C': 0.0019458738403480128}. Best is trial 1 with value: 0.8185416666666666.\u001b[0m\n"
     ]
    },
    {
     "name": "stderr",
     "output_type": "stream",
     "text": [
      " 30%|███       | 3/10 [03:51<06:36, 56.65s/it]"
     ]
    },
    {
     "name": "stdout",
     "output_type": "stream",
     "text": [
      "\u001b[32m[I 2021-12-04 13:39:19,245]\u001b[0m Trial 2 finished with value: 0.7895833333333333 and parameters: {'C': 0.0006528473243309113}. Best is trial 1 with value: 0.8185416666666666.\u001b[0m\n"
     ]
    },
    {
     "name": "stderr",
     "output_type": "stream",
     "text": [
      " 40%|████      | 4/10 [05:25<07:07, 71.20s/it]"
     ]
    },
    {
     "name": "stdout",
     "output_type": "stream",
     "text": [
      "\u001b[32m[I 2021-12-04 13:40:52,759]\u001b[0m Trial 3 finished with value: 0.823125 and parameters: {'C': 0.25734643279726915}. Best is trial 3 with value: 0.823125.\u001b[0m\n"
     ]
    },
    {
     "name": "stderr",
     "output_type": "stream",
     "text": [
      " 50%|█████     | 5/10 [08:40<09:40, 116.09s/it]"
     ]
    },
    {
     "name": "stdout",
     "output_type": "stream",
     "text": [
      "\u001b[32m[I 2021-12-04 13:44:08,453]\u001b[0m Trial 4 finished with value: 0.8029166666666666 and parameters: {'C': 5.698384608345687}. Best is trial 3 with value: 0.823125.\u001b[0m\n"
     ]
    },
    {
     "name": "stderr",
     "output_type": "stream",
     "text": [
      " 60%|██████    | 6/10 [09:22<06:02, 90.65s/it] "
     ]
    },
    {
     "name": "stdout",
     "output_type": "stream",
     "text": [
      "\u001b[32m[I 2021-12-04 13:44:49,705]\u001b[0m Trial 5 finished with value: 0.8325 and parameters: {'C': 0.024257815076676004}. Best is trial 5 with value: 0.8325.\u001b[0m\n"
     ]
    },
    {
     "name": "stderr",
     "output_type": "stream",
     "text": [
      " 70%|███████   | 7/10 [15:22<08:56, 178.85s/it]"
     ]
    },
    {
     "name": "stdout",
     "output_type": "stream",
     "text": [
      "\u001b[32m[I 2021-12-04 13:50:50,134]\u001b[0m Trial 6 finished with value: 0.7895833333333333 and parameters: {'C': 701.6387837751602}. Best is trial 5 with value: 0.8325.\u001b[0m\n"
     ]
    },
    {
     "name": "stderr",
     "output_type": "stream",
     "text": [
      " 80%|████████  | 8/10 [18:01<05:44, 172.48s/it]"
     ]
    },
    {
     "name": "stdout",
     "output_type": "stream",
     "text": [
      "\u001b[32m[I 2021-12-04 13:53:28,970]\u001b[0m Trial 7 finished with value: 0.80375 and parameters: {'C': 3.0104949891579693}. Best is trial 5 with value: 0.8325.\u001b[0m\n"
     ]
    },
    {
     "name": "stderr",
     "output_type": "stream",
     "text": [
      " 90%|█████████ | 9/10 [19:02<02:17, 137.51s/it]"
     ]
    },
    {
     "name": "stdout",
     "output_type": "stream",
     "text": [
      "\u001b[32m[I 2021-12-04 13:54:29,595]\u001b[0m Trial 8 finished with value: 0.8295833333333333 and parameters: {'C': 0.0703809641382708}. Best is trial 5 with value: 0.8325.\u001b[0m\n"
     ]
    },
    {
     "name": "stderr",
     "output_type": "stream",
     "text": [
      "100%|██████████| 10/10 [19:35<00:00, 117.57s/it]\n",
      "\u001b[32m[I 2021-12-04 13:55:03,170]\u001b[0m A new study created in memory with name: no-name-15acf5cb-3848-46ba-a335-f531edf3917b\u001b[0m\n",
      "C:\\Users\\nikti\\miniconda3\\envs\\nlp\\lib\\site-packages\\optuna\\progress_bar.py:47: ExperimentalWarning: Progress bar is experimental (supported from v1.2.0). The interface can change in the future.\n",
      "  self._init_valid()\n"
     ]
    },
    {
     "name": "stdout",
     "output_type": "stream",
     "text": [
      "\u001b[32m[I 2021-12-04 13:55:03,165]\u001b[0m Trial 9 finished with value: 0.8354166666666667 and parameters: {'C': 0.013706928443177698}. Best is trial 9 with value: 0.8354166666666667.\u001b[0m\n"
     ]
    },
    {
     "name": "stderr",
     "output_type": "stream",
     "text": [
      " 10%|█         | 1/10 [02:09<19:29, 129.99s/it]"
     ]
    },
    {
     "name": "stdout",
     "output_type": "stream",
     "text": [
      "\u001b[32m[I 2021-12-04 13:57:13,161]\u001b[0m Trial 0 finished with value: 0.8189583333333333 and parameters: {'C': 3.730383528143731}. Best is trial 0 with value: 0.8189583333333333.\u001b[0m\n"
     ]
    },
    {
     "name": "stderr",
     "output_type": "stream",
     "text": [
      " 20%|██        | 2/10 [02:14<07:27, 55.89s/it] "
     ]
    },
    {
     "name": "stdout",
     "output_type": "stream",
     "text": [
      "\u001b[32m[I 2021-12-04 13:57:17,187]\u001b[0m Trial 1 finished with value: 0.7108333333333333 and parameters: {'C': 0.0019458738403480128}. Best is trial 0 with value: 0.8189583333333333.\u001b[0m\n"
     ]
    },
    {
     "name": "stderr",
     "output_type": "stream",
     "text": [
      " 30%|███       | 3/10 [02:17<03:44, 32.06s/it]"
     ]
    },
    {
     "name": "stdout",
     "output_type": "stream",
     "text": [
      "\u001b[32m[I 2021-12-04 13:57:20,889]\u001b[0m Trial 2 finished with value: 0.6908333333333333 and parameters: {'C': 0.0006528473243309113}. Best is trial 0 with value: 0.8189583333333333.\u001b[0m\n"
     ]
    },
    {
     "name": "stderr",
     "output_type": "stream",
     "text": [
      " 40%|████      | 4/10 [02:55<03:25, 34.19s/it]"
     ]
    },
    {
     "name": "stdout",
     "output_type": "stream",
     "text": [
      "\u001b[32m[I 2021-12-04 13:57:58,327]\u001b[0m Trial 3 finished with value: 0.8177083333333334 and parameters: {'C': 0.25734643279726915}. Best is trial 0 with value: 0.8189583333333333.\u001b[0m\n"
     ]
    },
    {
     "name": "stderr",
     "output_type": "stream",
     "text": [
      " 50%|█████     | 5/10 [05:07<05:47, 69.48s/it]"
     ]
    },
    {
     "name": "stdout",
     "output_type": "stream",
     "text": [
      "\u001b[32m[I 2021-12-04 14:00:10,389]\u001b[0m Trial 4 finished with value: 0.816875 and parameters: {'C': 5.698384608345687}. Best is trial 0 with value: 0.8189583333333333.\u001b[0m\n"
     ]
    },
    {
     "name": "stderr",
     "output_type": "stream",
     "text": [
      " 60%|██████    | 6/10 [05:22<03:24, 51.07s/it]"
     ]
    },
    {
     "name": "stdout",
     "output_type": "stream",
     "text": [
      "\u001b[32m[I 2021-12-04 14:00:25,725]\u001b[0m Trial 5 finished with value: 0.7758333333333334 and parameters: {'C': 0.024257815076676004}. Best is trial 0 with value: 0.8189583333333333.\u001b[0m\n"
     ]
    },
    {
     "name": "stderr",
     "output_type": "stream",
     "text": [
      " 70%|███████   | 7/10 [11:24<07:37, 152.61s/it]"
     ]
    },
    {
     "name": "stdout",
     "output_type": "stream",
     "text": [
      "\u001b[32m[I 2021-12-04 14:06:27,394]\u001b[0m Trial 6 finished with value: 0.793125 and parameters: {'C': 701.6387837751602}. Best is trial 0 with value: 0.8189583333333333.\u001b[0m\n"
     ]
    },
    {
     "name": "stderr",
     "output_type": "stream",
     "text": [
      " 80%|████████  | 8/10 [13:01<04:30, 135.04s/it]"
     ]
    },
    {
     "name": "stdout",
     "output_type": "stream",
     "text": [
      "\u001b[32m[I 2021-12-04 14:08:04,806]\u001b[0m Trial 7 finished with value: 0.8197916666666667 and parameters: {'C': 3.0104949891579693}. Best is trial 7 with value: 0.8197916666666667.\u001b[0m\n"
     ]
    },
    {
     "name": "stderr",
     "output_type": "stream",
     "text": [
      " 90%|█████████ | 9/10 [13:25<01:40, 100.29s/it]"
     ]
    },
    {
     "name": "stdout",
     "output_type": "stream",
     "text": [
      "\u001b[32m[I 2021-12-04 14:08:28,679]\u001b[0m Trial 8 finished with value: 0.798125 and parameters: {'C': 0.0703809641382708}. Best is trial 7 with value: 0.8197916666666667.\u001b[0m\n"
     ]
    },
    {
     "name": "stderr",
     "output_type": "stream",
     "text": [
      "100%|██████████| 10/10 [13:35<00:00, 81.58s/it]\n",
      "\u001b[32m[I 2021-12-04 14:08:38,987]\u001b[0m A new study created in memory with name: no-name-5b5b40bc-5fb6-444f-8054-12ca7dfede70\u001b[0m\n",
      "C:\\Users\\nikti\\miniconda3\\envs\\nlp\\lib\\site-packages\\optuna\\progress_bar.py:47: ExperimentalWarning: Progress bar is experimental (supported from v1.2.0). The interface can change in the future.\n",
      "  self._init_valid()\n"
     ]
    },
    {
     "name": "stdout",
     "output_type": "stream",
     "text": [
      "\u001b[32m[I 2021-12-04 14:08:38,982]\u001b[0m Trial 9 finished with value: 0.7608333333333334 and parameters: {'C': 0.013706928443177698}. Best is trial 7 with value: 0.8197916666666667.\u001b[0m\n"
     ]
    },
    {
     "name": "stderr",
     "output_type": "stream",
     "text": [
      " 10%|█         | 1/10 [01:18<11:43, 78.19s/it]"
     ]
    },
    {
     "name": "stdout",
     "output_type": "stream",
     "text": [
      "\u001b[32m[I 2021-12-04 14:09:57,183]\u001b[0m Trial 0 finished with value: 0.630625 and parameters: {'C': 3.730383528143731}. Best is trial 0 with value: 0.630625.\u001b[0m\n"
     ]
    },
    {
     "name": "stderr",
     "output_type": "stream",
     "text": [
      " 20%|██        | 2/10 [01:24<04:47, 35.91s/it]"
     ]
    },
    {
     "name": "stdout",
     "output_type": "stream",
     "text": [
      "\u001b[32m[I 2021-12-04 14:10:03,497]\u001b[0m Trial 1 finished with value: 0.5475 and parameters: {'C': 0.0019458738403480128}. Best is trial 0 with value: 0.630625.\u001b[0m\n"
     ]
    },
    {
     "name": "stderr",
     "output_type": "stream",
     "text": [
      " 30%|███       | 3/10 [01:27<02:26, 20.92s/it]"
     ]
    },
    {
     "name": "stdout",
     "output_type": "stream",
     "text": [
      "\u001b[32m[I 2021-12-04 14:10:06,578]\u001b[0m Trial 2 finished with value: 0.5289583333333333 and parameters: {'C': 0.0006528473243309113}. Best is trial 0 with value: 0.630625.\u001b[0m\n"
     ]
    },
    {
     "name": "stderr",
     "output_type": "stream",
     "text": [
      " 40%|████      | 4/10 [02:07<02:50, 28.35s/it]"
     ]
    },
    {
     "name": "stdout",
     "output_type": "stream",
     "text": [
      "\u001b[32m[I 2021-12-04 14:10:46,322]\u001b[0m Trial 3 finished with value: 0.6285416666666667 and parameters: {'C': 0.25734643279726915}. Best is trial 0 with value: 0.630625.\u001b[0m\n"
     ]
    },
    {
     "name": "stderr",
     "output_type": "stream",
     "text": [
      " 50%|█████     | 5/10 [03:41<04:20, 52.06s/it]"
     ]
    },
    {
     "name": "stdout",
     "output_type": "stream",
     "text": [
      "\u001b[32m[I 2021-12-04 14:12:20,416]\u001b[0m Trial 4 finished with value: 0.63 and parameters: {'C': 5.698384608345687}. Best is trial 0 with value: 0.630625.\u001b[0m\n"
     ]
    },
    {
     "name": "stderr",
     "output_type": "stream",
     "text": [
      " 60%|██████    | 6/10 [03:58<02:40, 40.12s/it]"
     ]
    },
    {
     "name": "stdout",
     "output_type": "stream",
     "text": [
      "\u001b[32m[I 2021-12-04 14:12:37,350]\u001b[0m Trial 5 finished with value: 0.5995833333333334 and parameters: {'C': 0.024257815076676004}. Best is trial 0 with value: 0.630625.\u001b[0m\n"
     ]
    },
    {
     "name": "stderr",
     "output_type": "stream",
     "text": [
      " 70%|███████   | 7/10 [05:43<03:04, 61.51s/it]"
     ]
    },
    {
     "name": "stdout",
     "output_type": "stream",
     "text": [
      "\u001b[32m[I 2021-12-04 14:14:22,895]\u001b[0m Trial 6 finished with value: 0.6308333333333334 and parameters: {'C': 701.6387837751602}. Best is trial 6 with value: 0.6308333333333334.\u001b[0m\n"
     ]
    },
    {
     "name": "stderr",
     "output_type": "stream",
     "text": [
      " 80%|████████  | 8/10 [07:06<02:16, 68.34s/it]"
     ]
    },
    {
     "name": "stdout",
     "output_type": "stream",
     "text": [
      "\u001b[32m[I 2021-12-04 14:15:45,878]\u001b[0m Trial 7 finished with value: 0.6308333333333334 and parameters: {'C': 3.0104949891579693}. Best is trial 6 with value: 0.6308333333333334.\u001b[0m\n"
     ]
    },
    {
     "name": "stderr",
     "output_type": "stream",
     "text": [
      " 90%|█████████ | 9/10 [07:32<00:54, 54.97s/it]"
     ]
    },
    {
     "name": "stdout",
     "output_type": "stream",
     "text": [
      "\u001b[32m[I 2021-12-04 14:16:11,447]\u001b[0m Trial 8 finished with value: 0.6114583333333333 and parameters: {'C': 0.0703809641382708}. Best is trial 6 with value: 0.6308333333333334.\u001b[0m\n"
     ]
    },
    {
     "name": "stderr",
     "output_type": "stream",
     "text": [
      "100%|██████████| 10/10 [07:46<00:00, 46.63s/it]\n",
      "\u001b[32m[I 2021-12-04 14:16:25,317]\u001b[0m A new study created in memory with name: no-name-a08e4380-cbd3-494e-a552-35a2cbde7c14\u001b[0m\n",
      "C:\\Users\\nikti\\miniconda3\\envs\\nlp\\lib\\site-packages\\optuna\\progress_bar.py:47: ExperimentalWarning: Progress bar is experimental (supported from v1.2.0). The interface can change in the future.\n",
      "  self._init_valid()\n"
     ]
    },
    {
     "name": "stdout",
     "output_type": "stream",
     "text": [
      "\u001b[32m[I 2021-12-04 14:16:25,312]\u001b[0m Trial 9 finished with value: 0.58375 and parameters: {'C': 0.013706928443177698}. Best is trial 6 with value: 0.6308333333333334.\u001b[0m\n"
     ]
    },
    {
     "name": "stderr",
     "output_type": "stream",
     "text": [
      " 10%|█         | 1/10 [01:15<11:16, 75.17s/it]"
     ]
    },
    {
     "name": "stdout",
     "output_type": "stream",
     "text": [
      "\u001b[32m[I 2021-12-04 14:17:40,488]\u001b[0m Trial 0 finished with value: 0.630625 and parameters: {'C': 3.730383528143731}. Best is trial 0 with value: 0.630625.\u001b[0m\n"
     ]
    },
    {
     "name": "stderr",
     "output_type": "stream",
     "text": [
      " 20%|██        | 2/10 [01:21<04:35, 34.46s/it]"
     ]
    },
    {
     "name": "stdout",
     "output_type": "stream",
     "text": [
      "\u001b[32m[I 2021-12-04 14:17:46,450]\u001b[0m Trial 1 finished with value: 0.5475 and parameters: {'C': 0.0019458738403480128}. Best is trial 0 with value: 0.630625.\u001b[0m\n"
     ]
    },
    {
     "name": "stderr",
     "output_type": "stream",
     "text": [
      " 30%|███       | 3/10 [01:24<02:20, 20.08s/it]"
     ]
    },
    {
     "name": "stdout",
     "output_type": "stream",
     "text": [
      "\u001b[32m[I 2021-12-04 14:17:49,420]\u001b[0m Trial 2 finished with value: 0.5289583333333333 and parameters: {'C': 0.0006528473243309113}. Best is trial 0 with value: 0.630625.\u001b[0m\n"
     ]
    },
    {
     "name": "stderr",
     "output_type": "stream",
     "text": [
      " 40%|████      | 4/10 [02:01<02:41, 26.98s/it]"
     ]
    },
    {
     "name": "stdout",
     "output_type": "stream",
     "text": [
      "\u001b[32m[I 2021-12-04 14:18:26,966]\u001b[0m Trial 3 finished with value: 0.6285416666666667 and parameters: {'C': 0.25734643279726915}. Best is trial 0 with value: 0.630625.\u001b[0m\n"
     ]
    },
    {
     "name": "stderr",
     "output_type": "stream",
     "text": [
      " 50%|█████     | 5/10 [03:29<04:05, 49.09s/it]"
     ]
    },
    {
     "name": "stdout",
     "output_type": "stream",
     "text": [
      "\u001b[32m[I 2021-12-04 14:19:55,272]\u001b[0m Trial 4 finished with value: 0.63 and parameters: {'C': 5.698384608345687}. Best is trial 0 with value: 0.630625.\u001b[0m\n"
     ]
    },
    {
     "name": "stderr",
     "output_type": "stream",
     "text": [
      " 60%|██████    | 6/10 [03:45<02:31, 37.82s/it]"
     ]
    },
    {
     "name": "stdout",
     "output_type": "stream",
     "text": [
      "\u001b[32m[I 2021-12-04 14:20:11,218]\u001b[0m Trial 5 finished with value: 0.5995833333333334 and parameters: {'C': 0.024257815076676004}. Best is trial 0 with value: 0.630625.\u001b[0m\n"
     ]
    },
    {
     "name": "stderr",
     "output_type": "stream",
     "text": [
      " 70%|███████   | 7/10 [05:27<02:56, 58.80s/it]"
     ]
    },
    {
     "name": "stdout",
     "output_type": "stream",
     "text": [
      "\u001b[32m[I 2021-12-04 14:21:53,197]\u001b[0m Trial 6 finished with value: 0.6308333333333334 and parameters: {'C': 701.6387837751602}. Best is trial 6 with value: 0.6308333333333334.\u001b[0m\n"
     ]
    },
    {
     "name": "stderr",
     "output_type": "stream",
     "text": [
      " 80%|████████  | 8/10 [06:49<02:12, 66.08s/it]"
     ]
    },
    {
     "name": "stdout",
     "output_type": "stream",
     "text": [
      "\u001b[32m[I 2021-12-04 14:23:14,858]\u001b[0m Trial 7 finished with value: 0.6308333333333334 and parameters: {'C': 3.0104949891579693}. Best is trial 6 with value: 0.6308333333333334.\u001b[0m\n"
     ]
    },
    {
     "name": "stderr",
     "output_type": "stream",
     "text": [
      " 90%|█████████ | 9/10 [07:14<00:53, 53.25s/it]"
     ]
    },
    {
     "name": "stdout",
     "output_type": "stream",
     "text": [
      "\u001b[32m[I 2021-12-04 14:23:39,896]\u001b[0m Trial 8 finished with value: 0.6114583333333333 and parameters: {'C': 0.0703809641382708}. Best is trial 6 with value: 0.6308333333333334.\u001b[0m\n"
     ]
    },
    {
     "name": "stderr",
     "output_type": "stream",
     "text": [
      "100%|██████████| 10/10 [07:28<00:00, 44.83s/it]"
     ]
    },
    {
     "name": "stdout",
     "output_type": "stream",
     "text": [
      "\u001b[32m[I 2021-12-04 14:23:53,616]\u001b[0m Trial 9 finished with value: 0.58375 and parameters: {'C': 0.013706928443177698}. Best is trial 6 with value: 0.6308333333333334.\u001b[0m\n"
     ]
    },
    {
     "name": "stderr",
     "output_type": "stream",
     "text": [
      "\n"
     ]
    }
   ],
   "source": [
    "log_reg_studies = []\n",
    "for x_train, x_val in validation_data:\n",
    "    study = optimize(get_log_reg, x_train, y_train, x_val, y_val)\n",
    "    log_reg_studies.append(study)"
   ]
  },
  {
   "cell_type": "code",
   "execution_count": 46,
   "metadata": {},
   "outputs": [
    {
     "name": "stdout",
     "output_type": "stream",
     "text": [
      "Best scores:\n",
      "\tbow:\t0.8354166666666667\n",
      "\ttfidf:\t0.8197916666666667\n",
      "\tword2vec:\t0.6308333333333334\n",
      "\tglove:\t0.6308333333333334\n"
     ]
    }
   ],
   "source": [
    "print('Best scores:')\n",
    "for study, name in zip(log_reg_studies, validation_names):\n",
    "    print(f'\\t{name}:\\t{study.best_value}')"
   ]
  },
  {
   "cell_type": "markdown",
   "metadata": {},
   "source": [
    "### Stacking\n",
    "Запустил только на одну попытку из-за того, что тренировка занимает очень много времени. В целом, точность там примерно такая же, как и на логистической регрессии"
   ]
  },
  {
   "cell_type": "code",
   "execution_count": 96,
   "metadata": {},
   "outputs": [
    {
     "name": "stderr",
     "output_type": "stream",
     "text": [
      "\u001b[32m[I 2021-12-05 16:47:44,953]\u001b[0m A new study created in memory with name: no-name-6f3f8772-ce02-48ec-a205-a210d9e18710\u001b[0m\n",
      "C:\\Users\\nikti\\miniconda3\\envs\\nlp\\lib\\site-packages\\optuna\\progress_bar.py:47: ExperimentalWarning: Progress bar is experimental (supported from v1.2.0). The interface can change in the future.\n",
      "  self._init_valid()\n",
      "100%|██████████| 1/1 [12:32<00:00, 752.76s/it]\n",
      "\u001b[32m[I 2021-12-05 17:00:17,721]\u001b[0m A new study created in memory with name: no-name-8dc416f4-435f-4dd0-bd8a-617be060750e\u001b[0m\n",
      "C:\\Users\\nikti\\miniconda3\\envs\\nlp\\lib\\site-packages\\optuna\\progress_bar.py:47: ExperimentalWarning: Progress bar is experimental (supported from v1.2.0). The interface can change in the future.\n",
      "  self._init_valid()\n"
     ]
    },
    {
     "name": "stdout",
     "output_type": "stream",
     "text": [
      "\u001b[32m[I 2021-12-05 17:00:17,713]\u001b[0m Trial 0 finished with value: 0.7879166666666667 and parameters: {'n_neighbors': 71, 'n_estimators': 179, 'min_samples_split': 4, 'min_samples_leaf': 6, 'C': 5.698384608345687}. Best is trial 0 with value: 0.7879166666666667.\u001b[0m\n"
     ]
    },
    {
     "name": "stderr",
     "output_type": "stream",
     "text": [
      "100%|██████████| 1/1 [11:36<00:00, 696.84s/it]\n",
      "\u001b[32m[I 2021-12-05 17:11:54,568]\u001b[0m A new study created in memory with name: no-name-094c27f1-b6e9-42ca-a14a-4f603bd7254c\u001b[0m\n",
      "C:\\Users\\nikti\\miniconda3\\envs\\nlp\\lib\\site-packages\\optuna\\progress_bar.py:47: ExperimentalWarning: Progress bar is experimental (supported from v1.2.0). The interface can change in the future.\n",
      "  self._init_valid()\n"
     ]
    },
    {
     "name": "stdout",
     "output_type": "stream",
     "text": [
      "\u001b[32m[I 2021-12-05 17:11:54,559]\u001b[0m Trial 0 finished with value: 0.8045833333333333 and parameters: {'n_neighbors': 71, 'n_estimators': 179, 'min_samples_split': 4, 'min_samples_leaf': 6, 'C': 5.698384608345687}. Best is trial 0 with value: 0.8045833333333333.\u001b[0m\n"
     ]
    },
    {
     "name": "stderr",
     "output_type": "stream",
     "text": [
      "100%|██████████| 1/1 [12:48<00:00, 768.30s/it]\n",
      "\u001b[32m[I 2021-12-05 17:24:42,870]\u001b[0m A new study created in memory with name: no-name-9a6d132d-a3a4-4df1-948a-acd9713a32fe\u001b[0m\n",
      "C:\\Users\\nikti\\miniconda3\\envs\\nlp\\lib\\site-packages\\optuna\\progress_bar.py:47: ExperimentalWarning: Progress bar is experimental (supported from v1.2.0). The interface can change in the future.\n",
      "  self._init_valid()\n"
     ]
    },
    {
     "name": "stdout",
     "output_type": "stream",
     "text": [
      "\u001b[32m[I 2021-12-05 17:24:42,864]\u001b[0m Trial 0 finished with value: 0.5997916666666666 and parameters: {'n_neighbors': 71, 'n_estimators': 179, 'min_samples_split': 4, 'min_samples_leaf': 6, 'C': 5.698384608345687}. Best is trial 0 with value: 0.5997916666666666.\u001b[0m\n"
     ]
    },
    {
     "name": "stderr",
     "output_type": "stream",
     "text": [
      "100%|██████████| 1/1 [10:33<00:00, 633.84s/it]"
     ]
    },
    {
     "name": "stdout",
     "output_type": "stream",
     "text": [
      "\u001b[32m[I 2021-12-05 17:35:16,708]\u001b[0m Trial 0 finished with value: 0.5997916666666666 and parameters: {'n_neighbors': 71, 'n_estimators': 179, 'min_samples_split': 4, 'min_samples_leaf': 6, 'C': 5.698384608345687}. Best is trial 0 with value: 0.5997916666666666.\u001b[0m\n"
     ]
    },
    {
     "name": "stderr",
     "output_type": "stream",
     "text": [
      "\n"
     ]
    }
   ],
   "source": [
    "stacking_studies = []\n",
    "for x_train, x_val in validation_data:\n",
    "    study = optimize(get_stacking, x_train, y_train, x_val, y_val, n_trials=1)\n",
    "    stacking_studies.append(study)"
   ]
  },
  {
   "cell_type": "code",
   "execution_count": 97,
   "metadata": {},
   "outputs": [
    {
     "name": "stdout",
     "output_type": "stream",
     "text": [
      "Best scores:\n",
      "\tbow:\t0.7879166666666667\n",
      "\ttfidf:\t0.8045833333333333\n",
      "\tword2vec:\t0.5997916666666666\n",
      "\tglove:\t0.5997916666666666\n"
     ]
    }
   ],
   "source": [
    "print('Best scores:')\n",
    "for study, name in zip(stacking_studies, validation_names):\n",
    "    print(f'\\t{name}:\\t{study.best_value}')"
   ]
  },
  {
   "cell_type": "markdown",
   "metadata": {},
   "source": [
    "## Neural Network"
   ]
  },
  {
   "cell_type": "code",
   "execution_count": 79,
   "metadata": {},
   "outputs": [],
   "source": [
    "import time\n",
    "import torch\n",
    "from torch import nn\n",
    "from torch.utils.data import DataLoader, Dataset\n",
    "from torch.utils.data.dataset import random_split\n",
    "from torchtext.vocab import build_vocab_from_iterator\n",
    "from torchtext.data.functional import to_map_style_dataset\n",
    "from torchtext.data.utils import get_tokenizer"
   ]
  },
  {
   "cell_type": "markdown",
   "metadata": {},
   "source": [
    "Подготовим кастомный датасет для наших данных"
   ]
  },
  {
   "cell_type": "code",
   "execution_count": 80,
   "metadata": {},
   "outputs": [],
   "source": [
    "class StackOverflowDataset(Dataset):\n",
    "    def __init__(self, filename) -> None:\n",
    "        super().__init__()\n",
    "        self.data = pd.read_parquet(filename)\n",
    "\n",
    "        self.title = self.data['Title']\n",
    "        self.body = self.data['Body']\n",
    "        self.tags = self.data['Tags']\n",
    "        self.target = self.data['target'] if 'target' in self.data.columns else None\n",
    "\n",
    "        def split_tags(text):\n",
    "            return ' '.join(text[1: -1].split('><'))\n",
    "        self.tags = self.tags.apply(lambda x: split_tags(x))\n",
    "\n",
    "    def __len__(self):\n",
    "        return self.data.shape[0]\n",
    "\n",
    "    def __getitem__(self, idx):\n",
    "        data = self.title.iloc[idx] + self.body.iloc[idx] + self.tags.iloc[idx]\n",
    "        if self.target is not None:\n",
    "            return data, self.target.iloc[idx]\n",
    "        else:\n",
    "            return data"
   ]
  },
  {
   "cell_type": "code",
   "execution_count": 81,
   "metadata": {},
   "outputs": [],
   "source": [
    "train_iter = StackOverflowDataset('./data/train.parquet')"
   ]
  },
  {
   "cell_type": "code",
   "execution_count": 82,
   "metadata": {},
   "outputs": [],
   "source": [
    "tokenizer = get_tokenizer('basic_english')\n",
    "\n",
    "def yield_tokens(data_iter):\n",
    "    for text, _ in data_iter:\n",
    "        yield tokenizer(text)\n",
    "\n",
    "vocab = build_vocab_from_iterator(yield_tokens(train_iter), specials=[\"<unk>\"])\n",
    "vocab.set_default_index(vocab[\"<unk>\"])"
   ]
  },
  {
   "cell_type": "code",
   "execution_count": 83,
   "metadata": {},
   "outputs": [],
   "source": [
    "text_pipeline = lambda x: vocab(tokenizer(x))"
   ]
  },
  {
   "cell_type": "code",
   "execution_count": 84,
   "metadata": {},
   "outputs": [],
   "source": [
    "device = torch.device(\"cpu\")\n",
    "\n",
    "def collate_batch(batch):\n",
    "    label_list, text_list, offsets = [], [], [0]\n",
    "    for (_text, _label) in batch:\n",
    "         label_list.append(_label)\n",
    "         processed_text = torch.tensor(text_pipeline(_text), dtype=torch.int64)\n",
    "         text_list.append(processed_text)\n",
    "         offsets.append(processed_text.size(0))\n",
    "    label_list = torch.tensor(label_list, dtype=torch.int64)\n",
    "    offsets = torch.tensor(offsets[:-1]).cumsum(dim=0)\n",
    "    text_list = torch.cat(text_list)\n",
    "    return label_list.to(device), text_list.to(device), offsets.to(device)\n",
    "\n",
    "train_iter = StackOverflowDataset('./data/train.parquet')\n",
    "dataloader = DataLoader(train_iter, batch_size=32, collate_fn=collate_batch)"
   ]
  },
  {
   "cell_type": "markdown",
   "metadata": {},
   "source": [
    "Собственно сама нейронка со слоем эмбеддингов и двумя fully-connected слоями"
   ]
  },
  {
   "cell_type": "code",
   "execution_count": 90,
   "metadata": {},
   "outputs": [],
   "source": [
    "class TextClassificationModel(nn.Module):\n",
    "    def __init__(self, vocab_size, embed_dim, hidden_dim, num_class):\n",
    "        super(TextClassificationModel, self).__init__()\n",
    "        self.embedding = nn.EmbeddingBag(vocab_size, embed_dim, sparse=True)\n",
    "        self.fc = nn.Linear(embed_dim, hidden_dim)\n",
    "        self.fc2 = nn.Linear(hidden_dim, num_class)\n",
    "        self.init_weights()\n",
    "\n",
    "    def init_weights(self):\n",
    "        initrange = 0.5\n",
    "        self.embedding.weight.data.uniform_(-initrange, initrange)\n",
    "        self.fc.weight.data.uniform_(-initrange, initrange)\n",
    "        self.fc.bias.data.zero_()\n",
    "        self.fc2.weight.data.uniform_(-initrange, initrange)\n",
    "        self.fc2.bias.data.zero_()\n",
    "\n",
    "    def forward(self, text, offsets):\n",
    "        embedded = self.embedding(text, offsets)\n",
    "        linear_output = self.fc(embedded)\n",
    "        return self.fc2(linear_output)"
   ]
  },
  {
   "cell_type": "code",
   "execution_count": 91,
   "metadata": {},
   "outputs": [],
   "source": [
    "train_iter = StackOverflowDataset('./data/train.parquet')\n",
    "num_class = len(set([label for (_, label) in train_iter]))\n",
    "vocab_size = len(vocab)\n",
    "emsize = 128\n",
    "hidden_dim = 32\n",
    "model = TextClassificationModel(vocab_size, emsize, hidden_dim, num_class).to(device)"
   ]
  },
  {
   "cell_type": "code",
   "execution_count": 92,
   "metadata": {},
   "outputs": [],
   "source": [
    "def train(dataloader, optimizer, epoch, criterion):\n",
    "    model.train()\n",
    "    total_acc, total_count = 0, 0\n",
    "    log_interval = 500\n",
    "    start_time = time.time()\n",
    "\n",
    "    for idx, (label, text, offsets) in enumerate(dataloader):\n",
    "        optimizer.zero_grad()\n",
    "        predicted_label = model(text, offsets)\n",
    "        loss = criterion(predicted_label, label)\n",
    "        loss.backward()\n",
    "        torch.nn.utils.clip_grad_norm_(model.parameters(), 0.1)\n",
    "        optimizer.step()\n",
    "        total_acc += (predicted_label.argmax(1) == label).sum().item()\n",
    "        total_count += label.size(0)\n",
    "        if idx % log_interval == 0 and idx > 0:\n",
    "            elapsed = time.time() - start_time\n",
    "            print('| epoch {:3d} | {:5d}/{:5d} batches '\n",
    "                  '| accuracy {:8.3f}'.format(epoch, idx, len(dataloader),\n",
    "                                              total_acc/total_count))\n",
    "            total_acc, total_count = 0, 0\n",
    "            start_time = time.time()\n",
    "\n",
    "def evaluate(dataloader):\n",
    "    model.eval()\n",
    "    total_acc, total_count = 0, 0\n",
    "\n",
    "    with torch.no_grad():\n",
    "        for label, text, offsets in dataloader:\n",
    "            predicted_label = model(text, offsets)\n",
    "            total_acc += (predicted_label.argmax(1) == label).sum().item()\n",
    "            total_count += label.size(0)\n",
    "    return total_acc/total_count"
   ]
  },
  {
   "cell_type": "code",
   "execution_count": 93,
   "metadata": {},
   "outputs": [],
   "source": [
    "EPOCHS = 10 # epoch\n",
    "LR = 5  # learning rate\n",
    "BATCH_SIZE = 64 # batch size for training\n",
    "\n",
    "criterion = torch.nn.CrossEntropyLoss()\n",
    "optimizer = torch.optim.SGD(model.parameters(), lr=LR)\n",
    "scheduler = torch.optim.lr_scheduler.StepLR(optimizer, 1.0, gamma=0.1)\n",
    "total_accu = None\n",
    "\n",
    "train_iter = StackOverflowDataset('./data/train.parquet')\n",
    "test_iter = StackOverflowDataset('./data/test.parquet')\n",
    "\n",
    "train_dataset = to_map_style_dataset(train_iter)\n",
    "test_dataset = to_map_style_dataset(test_iter)\n",
    "\n",
    "num_train = int(len(train_dataset) * 0.95)\n",
    "split_train_, split_valid_ = \\\n",
    "    random_split(train_dataset, [num_train, len(train_dataset) - num_train])\n",
    "\n",
    "train_dataloader = DataLoader(split_train_, batch_size=BATCH_SIZE,\n",
    "                              shuffle=True, collate_fn=collate_batch)\n",
    "valid_dataloader = DataLoader(split_valid_, batch_size=BATCH_SIZE,\n",
    "                              shuffle=True, collate_fn=collate_batch)\n",
    "test_dataloader = DataLoader(test_dataset, batch_size=BATCH_SIZE,\n",
    "                             shuffle=True, collate_fn=collate_batch)"
   ]
  },
  {
   "cell_type": "code",
   "execution_count": 94,
   "metadata": {},
   "outputs": [
    {
     "name": "stdout",
     "output_type": "stream",
     "text": [
      "| epoch   1 |   500/  713 batches | accuracy    0.683\n",
      "-----------------------------------------------------------\n",
      "| end of epoch   1 | time: 24.61s | valid accuracy    0.806 \n",
      "-----------------------------------------------------------\n",
      "| epoch   2 |   500/  713 batches | accuracy    0.811\n",
      "-----------------------------------------------------------\n",
      "| end of epoch   2 | time: 24.14s | valid accuracy    0.833 \n",
      "-----------------------------------------------------------\n",
      "| epoch   3 |   500/  713 batches | accuracy    0.847\n",
      "-----------------------------------------------------------\n",
      "| end of epoch   3 | time: 24.39s | valid accuracy    0.820 \n",
      "-----------------------------------------------------------\n",
      "| epoch   4 |   500/  713 batches | accuracy    0.892\n",
      "-----------------------------------------------------------\n",
      "| end of epoch   4 | time: 25.23s | valid accuracy    0.872 \n",
      "-----------------------------------------------------------\n",
      "| epoch   5 |   500/  713 batches | accuracy    0.893\n",
      "-----------------------------------------------------------\n",
      "| end of epoch   5 | time: 27.86s | valid accuracy    0.873 \n",
      "-----------------------------------------------------------\n",
      "| epoch   6 |   500/  713 batches | accuracy    0.896\n",
      "-----------------------------------------------------------\n",
      "| end of epoch   6 | time: 27.43s | valid accuracy    0.877 \n",
      "-----------------------------------------------------------\n",
      "| epoch   7 |   500/  713 batches | accuracy    0.899\n",
      "-----------------------------------------------------------\n",
      "| end of epoch   7 | time: 25.97s | valid accuracy    0.873 \n",
      "-----------------------------------------------------------\n",
      "| epoch   8 |   500/  713 batches | accuracy    0.901\n",
      "-----------------------------------------------------------\n",
      "| end of epoch   8 | time: 29.01s | valid accuracy    0.877 \n",
      "-----------------------------------------------------------\n",
      "| epoch   9 |   500/  713 batches | accuracy    0.902\n",
      "-----------------------------------------------------------\n",
      "| end of epoch   9 | time: 27.68s | valid accuracy    0.877 \n",
      "-----------------------------------------------------------\n",
      "| epoch  10 |   500/  713 batches | accuracy    0.904\n",
      "-----------------------------------------------------------\n",
      "| end of epoch  10 | time: 25.65s | valid accuracy    0.876 \n",
      "-----------------------------------------------------------\n"
     ]
    }
   ],
   "source": [
    "for epoch in range(1, EPOCHS + 1):\n",
    "    epoch_start_time = time.time()\n",
    "    train(train_dataloader, optimizer, epoch, criterion)\n",
    "    accu_val = evaluate(valid_dataloader)\n",
    "    if total_accu is not None and total_accu > accu_val:\n",
    "      scheduler.step()\n",
    "    else:\n",
    "       total_accu = accu_val\n",
    "    print('-' * 59)\n",
    "    print('| end of epoch {:3d} | time: {:5.2f}s | '\n",
    "          'valid accuracy {:8.3f} '.format(epoch, time.time() - epoch_start_time, accu_val))\n",
    "    print('-' * 59)"
   ]
  },
  {
   "cell_type": "markdown",
   "metadata": {},
   "source": [
    "## Итоги\n",
    "Ожидаемо, алгоритмы классического машинного обучения показали себя хуже Deep Learning.\n",
    "\n",
    "Из препроцессинга лучше всего себя показал BOW, близко к нему TF-IDF. А вот предобученные модели, Word2Vec и Glove, не дали прироста к точности"
   ]
  }
 ],
 "metadata": {
  "interpreter": {
   "hash": "9f5a2599355624a556240fdc3f0627c4e0016588722ee170139ef0bcc4cc5fb5"
  },
  "kernelspec": {
   "display_name": "Python 3.8.12 64-bit ('nlp': conda)",
   "language": "python",
   "name": "python3"
  },
  "language_info": {
   "codemirror_mode": {
    "name": "ipython",
    "version": 3
   },
   "file_extension": ".py",
   "mimetype": "text/x-python",
   "name": "python",
   "nbconvert_exporter": "python",
   "pygments_lexer": "ipython3",
   "version": "3.8.12"
  },
  "orig_nbformat": 4
 },
 "nbformat": 4,
 "nbformat_minor": 2
}
