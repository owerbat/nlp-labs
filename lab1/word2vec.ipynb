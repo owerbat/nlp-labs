{
 "cells": [
  {
   "cell_type": "code",
   "execution_count": 1,
   "metadata": {},
   "outputs": [],
   "source": [
    "import pandas as pd\n",
    "import numpy as np\n",
    "from scipy import sparse\n",
    "import optuna\n",
    "from matplotlib import pyplot as plt\n",
    "import re\n",
    "import string\n",
    "\n",
    "%matplotlib inline"
   ]
  },
  {
   "cell_type": "code",
   "execution_count": 2,
   "metadata": {},
   "outputs": [],
   "source": [
    "train_df = pd.read_parquet('./data/train.parquet')\n",
    "test_df = pd.read_parquet('./data/test.parquet')\n",
    "submission = pd.read_csv('./data/sample_submission.csv')"
   ]
  },
  {
   "cell_type": "code",
   "execution_count": 3,
   "metadata": {},
   "outputs": [],
   "source": [
    "labels = train_df.target\n",
    "train_data = train_df[['Title', 'Body']]\n",
    "test_data = test_df[['Title', 'Body']]"
   ]
  },
  {
   "cell_type": "code",
   "execution_count": 4,
   "metadata": {},
   "outputs": [],
   "source": [
    "def split_tags(text):\n",
    "    return text[1: -1].split('><')\n",
    "\n",
    "tags = pd.concat([train_df['Tags'], test_df['Tags']])\n",
    "tags = tags.apply(lambda x: split_tags(x))"
   ]
  },
  {
   "cell_type": "code",
   "execution_count": 5,
   "metadata": {},
   "outputs": [],
   "source": [
    "unique_tags = []\n",
    "for _, value in tags.items():\n",
    "    unique_tags += value\n",
    "unique_tags, tags_counts = np.unique(unique_tags, return_counts=True)"
   ]
  },
  {
   "cell_type": "code",
   "execution_count": 6,
   "metadata": {},
   "outputs": [],
   "source": [
    "sorted_idxs = np.argsort(tags_counts)[::-1]\n",
    "tags_counts = tags_counts[sorted_idxs]\n",
    "unique_tags = unique_tags[sorted_idxs]"
   ]
  },
  {
   "cell_type": "code",
   "execution_count": 7,
   "metadata": {},
   "outputs": [],
   "source": [
    "n_tags = 1000\n",
    "n_train, n_test = train_data.shape[0], test_data.shape[0]\n",
    "top_tags = unique_tags[:n_tags]\n",
    "tags_features = np.zeros((n_train + n_test, n_tags), dtype=np.int8)\n",
    "\n",
    "for i, (_, tags_list) in enumerate(tags.items()):\n",
    "    for j, tag in enumerate(top_tags):\n",
    "        if tag in tags_list:\n",
    "            tags_features[i: j] = 1\n",
    "\n",
    "tags_train = tags_features[:n_train]\n",
    "tags_test = tags_features[n_train:]"
   ]
  },
  {
   "cell_type": "code",
   "execution_count": null,
   "metadata": {},
   "outputs": [],
   "source": []
  },
  {
   "cell_type": "code",
   "execution_count": 8,
   "metadata": {},
   "outputs": [],
   "source": [
    "from sklearn.model_selection import train_test_split\n",
    "x_train, x_val, x_train_tags, x_val_tags, y_train, y_val = train_test_split(train_data, tags_train, labels, test_size=.1, stratify=labels, random_state=0)"
   ]
  },
  {
   "cell_type": "code",
   "execution_count": 9,
   "metadata": {},
   "outputs": [
    {
     "data": {
      "text/plain": [
       "['fasttext-wiki-news-subwords-300',\n",
       " 'conceptnet-numberbatch-17-06-300',\n",
       " 'word2vec-ruscorpora-300',\n",
       " 'word2vec-google-news-300',\n",
       " 'glove-wiki-gigaword-50',\n",
       " 'glove-wiki-gigaword-100',\n",
       " 'glove-wiki-gigaword-200',\n",
       " 'glove-wiki-gigaword-300',\n",
       " 'glove-twitter-25',\n",
       " 'glove-twitter-50',\n",
       " 'glove-twitter-100',\n",
       " 'glove-twitter-200',\n",
       " '__testing_word2vec-matrix-synopsis']"
      ]
     },
     "execution_count": 9,
     "metadata": {},
     "output_type": "execute_result"
    }
   ],
   "source": [
    "from gensim import downloader\n",
    "list(downloader.info()['models'].keys())"
   ]
  },
  {
   "cell_type": "code",
   "execution_count": 10,
   "metadata": {},
   "outputs": [],
   "source": [
    "w2v_model = downloader.load('word2vec-google-news-300')"
   ]
  },
  {
   "cell_type": "code",
   "execution_count": 11,
   "metadata": {},
   "outputs": [],
   "source": [
    "def sentence2vec(sentence):\n",
    "    vecs = []\n",
    "    for word in sentence.split(' '):\n",
    "        try:\n",
    "            vecs.append(w2v_model.get_vector(word.lower()))\n",
    "        except:\n",
    "            pass\n",
    "    if len(vecs) == 0:\n",
    "        vecs = [np.zeros(300)]\n",
    "    return sum(vecs) / len(vecs)\n",
    "\n",
    "def apply_word2vec(data):\n",
    "    title = np.array([sentence2vec(sentence) for sentence in data['Title']])\n",
    "    body = np.array([sentence2vec(sentence) for sentence in data['Body']])\n",
    "    return np.hstack([title, body])"
   ]
  },
  {
   "cell_type": "code",
   "execution_count": 12,
   "metadata": {},
   "outputs": [],
   "source": [
    "x_train_w2v = apply_word2vec(x_train)"
   ]
  },
  {
   "cell_type": "code",
   "execution_count": 13,
   "metadata": {},
   "outputs": [],
   "source": [
    "x_val_w2v = apply_word2vec(x_val)"
   ]
  },
  {
   "cell_type": "code",
   "execution_count": null,
   "metadata": {},
   "outputs": [],
   "source": []
  },
  {
   "cell_type": "code",
   "execution_count": 14,
   "metadata": {},
   "outputs": [],
   "source": [
    "from sklearn.ensemble import StackingClassifier\n",
    "\n",
    "def get_log_reg(trial=None, C=1):\n",
    "    from sklearn.linear_model import LogisticRegression\n",
    "\n",
    "    if trial is not None:\n",
    "        C = trial.suggest_loguniform('C', 1e-5, 1e+3)\n",
    "\n",
    "    return LogisticRegression(C=C, max_iter=10000, random_state=0)\n",
    "\n",
    "def get_stacking_1(trial=None,\n",
    "                   n_neighbors=5,\n",
    "                   n_estimators=100, min_samples_split=2, min_samples_leaf=1,\n",
    "                   C=1):\n",
    "    from sklearn.neighbors import KNeighborsClassifier\n",
    "    from sklearn.ensemble import RandomForestClassifier\n",
    "    from sklearn.linear_model import LogisticRegression\n",
    "\n",
    "    if trial is not None:\n",
    "        n_neighbors = trial.suggest_int('n_neighbors', 5, 100)\n",
    "        n_estimators = trial.suggest_int('n_estimators', 50, 500)\n",
    "        min_samples_split = trial.suggest_int('min_samples_split', 2, 10)\n",
    "        min_samples_leaf = trial.suggest_int('min_samples_leaf', 1, 10)\n",
    "        C = trial.suggest_loguniform('C', 1e-5, 1e+3)\n",
    "\n",
    "    estimators = [\n",
    "        ('knn', KNeighborsClassifier(n_neighbors=n_neighbors)),\n",
    "        ('rf', RandomForestClassifier(n_estimators=n_estimators, min_samples_split=min_samples_split,\n",
    "                                      min_samples_leaf=min_samples_leaf, random_state=0))\n",
    "    ]\n",
    "    final = LogisticRegression(C=C, max_iter=10000, random_state=0)\n",
    "\n",
    "    return StackingClassifier(estimators=estimators, final_estimator=final)"
   ]
  },
  {
   "cell_type": "code",
   "execution_count": 15,
   "metadata": {},
   "outputs": [],
   "source": [
    "from sklearn.metrics import accuracy_score\n",
    "\n",
    "def objective_function(estimator_func, train_data, train_labels, test_data, test_labels=None, trial=None):\n",
    "    estimator = estimator_func(trial=trial).fit(train_data, train_labels)\n",
    "    if test_labels is not None:\n",
    "        prediction = estimator.predict(test_data)\n",
    "        return accuracy_score(test_labels, prediction)\n",
    "    else:\n",
    "        return estimator.predict(test_data)"
   ]
  },
  {
   "cell_type": "code",
   "execution_count": 16,
   "metadata": {},
   "outputs": [],
   "source": [
    "def optimize(estimator_func, train_data, train_labels, test_data, test_labels, n_trials=10):\n",
    "    study = optuna.create_study(sampler=optuna.samplers.TPESampler(seed=123),\n",
    "                                direction='maximize',\n",
    "                                pruner=optuna.pruners.HyperbandPruner())\n",
    "    objective = lambda trial: objective_function(estimator_func, train_data, train_labels, test_data, test_labels, trial)\n",
    "    study.optimize(objective, n_trials=n_trials, show_progress_bar=True)\n",
    "    return study"
   ]
  },
  {
   "cell_type": "code",
   "execution_count": null,
   "metadata": {},
   "outputs": [],
   "source": []
  },
  {
   "cell_type": "code",
   "execution_count": 17,
   "metadata": {},
   "outputs": [
    {
     "data": {
      "text/plain": [
       "((43200, 600), (43200, 1000))"
      ]
     },
     "execution_count": 17,
     "metadata": {},
     "output_type": "execute_result"
    }
   ],
   "source": [
    "x_train_w2v.shape, x_train_tags.shape"
   ]
  },
  {
   "cell_type": "code",
   "execution_count": 18,
   "metadata": {},
   "outputs": [
    {
     "data": {
      "text/plain": [
       "((4800, 600), (4800, 1000))"
      ]
     },
     "execution_count": 18,
     "metadata": {},
     "output_type": "execute_result"
    }
   ],
   "source": [
    "x_val_w2v.shape, x_val_tags.shape"
   ]
  },
  {
   "cell_type": "code",
   "execution_count": 19,
   "metadata": {},
   "outputs": [],
   "source": [
    "x_train = np.hstack([x_train_w2v, x_train_tags])\n",
    "x_val = np.hstack([x_val_w2v, x_val_tags])"
   ]
  },
  {
   "cell_type": "code",
   "execution_count": null,
   "metadata": {},
   "outputs": [],
   "source": []
  },
  {
   "cell_type": "code",
   "execution_count": 26,
   "metadata": {},
   "outputs": [
    {
     "name": "stderr",
     "output_type": "stream",
     "text": [
      "Intel(R) Extension for Scikit-learn* enabled (https://github.com/intel/scikit-learn-intelex)\n"
     ]
    }
   ],
   "source": [
    "from sklearnex import patch_sklearn, unpatch_sklearn\n",
    "patch_sklearn()"
   ]
  },
  {
   "cell_type": "code",
   "execution_count": null,
   "metadata": {},
   "outputs": [],
   "source": []
  },
  {
   "cell_type": "code",
   "execution_count": 20,
   "metadata": {},
   "outputs": [
    {
     "name": "stderr",
     "output_type": "stream",
     "text": [
      "\u001b[32m[I 2021-12-01 21:53:38,424]\u001b[0m A new study created in memory with name: no-name-bb33e9e4-c733-40f8-b772-279b35b66cff\u001b[0m\n",
      "C:\\Users\\nikti\\miniconda3\\envs\\nlp\\lib\\site-packages\\optuna\\progress_bar.py:47: ExperimentalWarning: Progress bar is experimental (supported from v1.2.0). The interface can change in the future.\n",
      "  self._init_valid()\n",
      " 10%|█         | 1/10 [01:31<13:45, 91.72s/it]"
     ]
    },
    {
     "name": "stdout",
     "output_type": "stream",
     "text": [
      "\u001b[32m[I 2021-12-01 21:55:10,155]\u001b[0m Trial 0 finished with value: 0.630625 and parameters: {'C': 3.730383528143731}. Best is trial 0 with value: 0.630625.\u001b[0m\n"
     ]
    },
    {
     "name": "stderr",
     "output_type": "stream",
     "text": [
      " 20%|██        | 2/10 [01:39<05:38, 42.34s/it]"
     ]
    },
    {
     "name": "stdout",
     "output_type": "stream",
     "text": [
      "\u001b[32m[I 2021-12-01 21:55:17,932]\u001b[0m Trial 1 finished with value: 0.5475 and parameters: {'C': 0.0019458738403480128}. Best is trial 0 with value: 0.630625.\u001b[0m\n"
     ]
    },
    {
     "name": "stderr",
     "output_type": "stream",
     "text": [
      " 30%|███       | 3/10 [01:43<02:53, 24.77s/it]"
     ]
    },
    {
     "name": "stdout",
     "output_type": "stream",
     "text": [
      "\u001b[32m[I 2021-12-01 21:55:21,797]\u001b[0m Trial 2 finished with value: 0.5289583333333333 and parameters: {'C': 0.0006528473243309113}. Best is trial 0 with value: 0.630625.\u001b[0m\n"
     ]
    },
    {
     "name": "stderr",
     "output_type": "stream",
     "text": [
      " 40%|████      | 4/10 [02:31<03:23, 33.96s/it]"
     ]
    },
    {
     "name": "stdout",
     "output_type": "stream",
     "text": [
      "\u001b[32m[I 2021-12-01 21:56:09,835]\u001b[0m Trial 3 finished with value: 0.6285416666666667 and parameters: {'C': 0.25734643279726915}. Best is trial 0 with value: 0.630625.\u001b[0m\n"
     ]
    },
    {
     "name": "stderr",
     "output_type": "stream",
     "text": [
      " 50%|█████     | 5/10 [04:23<05:10, 62.16s/it]"
     ]
    },
    {
     "name": "stdout",
     "output_type": "stream",
     "text": [
      "\u001b[32m[I 2021-12-01 21:58:01,997]\u001b[0m Trial 4 finished with value: 0.63 and parameters: {'C': 5.698384608345687}. Best is trial 0 with value: 0.630625.\u001b[0m\n"
     ]
    },
    {
     "name": "stderr",
     "output_type": "stream",
     "text": [
      " 60%|██████    | 6/10 [04:44<03:12, 48.11s/it]"
     ]
    },
    {
     "name": "stdout",
     "output_type": "stream",
     "text": [
      "\u001b[32m[I 2021-12-01 21:58:22,826]\u001b[0m Trial 5 finished with value: 0.5995833333333334 and parameters: {'C': 0.024257815076676004}. Best is trial 0 with value: 0.630625.\u001b[0m\n"
     ]
    },
    {
     "name": "stderr",
     "output_type": "stream",
     "text": [
      " 70%|███████   | 7/10 [06:45<03:36, 72.04s/it]"
     ]
    },
    {
     "name": "stdout",
     "output_type": "stream",
     "text": [
      "\u001b[32m[I 2021-12-01 22:00:24,138]\u001b[0m Trial 6 finished with value: 0.6308333333333334 and parameters: {'C': 701.6387837751602}. Best is trial 6 with value: 0.6308333333333334.\u001b[0m\n"
     ]
    },
    {
     "name": "stderr",
     "output_type": "stream",
     "text": [
      " 80%|████████  | 8/10 [08:13<02:34, 77.12s/it]"
     ]
    },
    {
     "name": "stdout",
     "output_type": "stream",
     "text": [
      "\u001b[32m[I 2021-12-01 22:01:52,129]\u001b[0m Trial 7 finished with value: 0.6308333333333334 and parameters: {'C': 3.0104949891579693}. Best is trial 6 with value: 0.6308333333333334.\u001b[0m\n"
     ]
    },
    {
     "name": "stderr",
     "output_type": "stream",
     "text": [
      " 90%|█████████ | 9/10 [08:40<01:01, 61.52s/it]"
     ]
    },
    {
     "name": "stdout",
     "output_type": "stream",
     "text": [
      "\u001b[32m[I 2021-12-01 22:02:19,365]\u001b[0m Trial 8 finished with value: 0.6114583333333333 and parameters: {'C': 0.0703809641382708}. Best is trial 6 with value: 0.6308333333333334.\u001b[0m\n"
     ]
    },
    {
     "name": "stderr",
     "output_type": "stream",
     "text": [
      "100%|██████████| 10/10 [08:55<00:00, 53.58s/it]"
     ]
    },
    {
     "name": "stdout",
     "output_type": "stream",
     "text": [
      "\u001b[32m[I 2021-12-01 22:02:34,195]\u001b[0m Trial 9 finished with value: 0.58375 and parameters: {'C': 0.013706928443177698}. Best is trial 6 with value: 0.6308333333333334.\u001b[0m\n"
     ]
    },
    {
     "name": "stderr",
     "output_type": "stream",
     "text": [
      "\n"
     ]
    }
   ],
   "source": [
    "study_acc_log_reg = optimize(get_log_reg, x_train, y_train, x_val, y_val)"
   ]
  },
  {
   "cell_type": "code",
   "execution_count": 21,
   "metadata": {},
   "outputs": [],
   "source": [
    "x_full_train_w2v = apply_word2vec(train_data)\n",
    "x_full_test_w2v = apply_word2vec(test_data)"
   ]
  },
  {
   "cell_type": "code",
   "execution_count": 23,
   "metadata": {},
   "outputs": [],
   "source": [
    "prediction = objective_function(lambda trial: get_log_reg(C=study_acc_log_reg.best_params['C']),\n",
    "                                np.hstack([x_full_train_w2v, tags_train]),\n",
    "                                labels,\n",
    "                                np.hstack([x_full_test_w2v, tags_test]))"
   ]
  },
  {
   "cell_type": "code",
   "execution_count": 24,
   "metadata": {},
   "outputs": [],
   "source": [
    "submission = pd.DataFrame({'Id': test_df.index, 'Predicted': prediction})\n",
    "submission.to_csv('submissions/word2vec_log_reg.csv', index=False)"
   ]
  },
  {
   "cell_type": "code",
   "execution_count": null,
   "metadata": {},
   "outputs": [],
   "source": []
  },
  {
   "cell_type": "markdown",
   "metadata": {},
   "source": [
    "## Stacking 1"
   ]
  },
  {
   "cell_type": "code",
   "execution_count": 27,
   "metadata": {},
   "outputs": [
    {
     "name": "stderr",
     "output_type": "stream",
     "text": [
      "\u001b[32m[I 2021-12-01 22:30:54,229]\u001b[0m A new study created in memory with name: no-name-dddd45dd-cebf-4754-bc1a-5df1318291bc\u001b[0m\n",
      "C:\\Users\\nikti\\miniconda3\\envs\\nlp\\lib\\site-packages\\optuna\\progress_bar.py:47: ExperimentalWarning: Progress bar is experimental (supported from v1.2.0). The interface can change in the future.\n",
      "  self._init_valid()\n",
      " 10%|█         | 1/10 [17:45<2:39:46, 1065.14s/it]"
     ]
    },
    {
     "name": "stdout",
     "output_type": "stream",
     "text": [
      "\u001b[32m[I 2021-12-01 22:48:39,375]\u001b[0m Trial 0 finished with value: 0.5935416666666666 and parameters: {'n_neighbors': 71, 'n_estimators': 179, 'min_samples_split': 4, 'min_samples_leaf': 6, 'C': 5.698384608345687}. Best is trial 0 with value: 0.5935416666666666.\u001b[0m\n"
     ]
    }
   ],
   "source": [
    "study_acc_stacking_1 = optimize(get_stacking_1, x_train, y_train, x_val, y_val)"
   ]
  },
  {
   "cell_type": "code",
   "execution_count": null,
   "metadata": {},
   "outputs": [],
   "source": [
    "prediction = objective_function(lambda trial: get_stacking_1(n_neighbors=study_acc_stacking_1.best_params['n_neighbors'],\n",
    "                                                             n_estimators=study_acc_stacking_1.best_params['n_estimators'],\n",
    "                                                             min_samples_split=study_acc_stacking_1.best_params['min_samples_split'],\n",
    "                                                             min_samples_leaf=study_acc_stacking_1.best_params['min_samples_leaf'],\n",
    "                                                             C=study_acc_stacking_1.best_params['C']),\n",
    "                                np.hstack([x_full_train_w2v, tags_train]),\n",
    "                                labels,\n",
    "                                np.hstack([x_full_test_w2v, tags_test]))"
   ]
  },
  {
   "cell_type": "code",
   "execution_count": null,
   "metadata": {},
   "outputs": [],
   "source": [
    "submission = pd.DataFrame({'Id': test_df.index, 'Predicted': prediction})\n",
    "submission.to_csv('submissions/word2vec_stacking_1.csv', index=False)"
   ]
  },
  {
   "cell_type": "code",
   "execution_count": null,
   "metadata": {},
   "outputs": [],
   "source": []
  }
 ],
 "metadata": {
  "interpreter": {
   "hash": "9f5a2599355624a556240fdc3f0627c4e0016588722ee170139ef0bcc4cc5fb5"
  },
  "kernelspec": {
   "display_name": "Python 3.8.12 64-bit ('nlp': conda)",
   "language": "python",
   "name": "python3"
  },
  "language_info": {
   "codemirror_mode": {
    "name": "ipython",
    "version": 3
   },
   "file_extension": ".py",
   "mimetype": "text/x-python",
   "name": "python",
   "nbconvert_exporter": "python",
   "pygments_lexer": "ipython3",
   "version": "3.8.12"
  },
  "orig_nbformat": 4
 },
 "nbformat": 4,
 "nbformat_minor": 2
}
