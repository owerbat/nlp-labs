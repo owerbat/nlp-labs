{
 "cells": [
  {
   "cell_type": "code",
   "execution_count": 12,
   "metadata": {},
   "outputs": [],
   "source": [
    "import pandas as pd\n",
    "import numpy as np\n",
    "from scipy import sparse\n",
    "import optuna\n",
    "from matplotlib import pyplot as plt\n",
    "import re\n",
    "import string\n",
    "\n",
    "%matplotlib inline"
   ]
  },
  {
   "cell_type": "code",
   "execution_count": 2,
   "metadata": {},
   "outputs": [],
   "source": [
    "train_df = pd.read_parquet('./data/train.parquet')\n",
    "test_df = pd.read_parquet('./data/test.parquet')\n",
    "submission = pd.read_csv('./data/sample_submission.csv')"
   ]
  },
  {
   "cell_type": "code",
   "execution_count": 3,
   "metadata": {},
   "outputs": [],
   "source": [
    "labels = train_df.target\n",
    "train_data = train_df[['Title', 'Body']]\n",
    "test_data = test_df[['Title', 'Body']]"
   ]
  },
  {
   "cell_type": "code",
   "execution_count": 4,
   "metadata": {},
   "outputs": [],
   "source": [
    "def split_tags(text):\n",
    "    return text[1: -1].split('><')\n",
    "\n",
    "tags = pd.concat([train_df['Tags'], test_df['Tags']])\n",
    "tags = tags.apply(lambda x: split_tags(x))"
   ]
  },
  {
   "cell_type": "code",
   "execution_count": 5,
   "metadata": {},
   "outputs": [],
   "source": [
    "unique_tags = []\n",
    "for _, value in tags.items():\n",
    "    unique_tags += value\n",
    "unique_tags, tags_counts = np.unique(unique_tags, return_counts=True)"
   ]
  },
  {
   "cell_type": "code",
   "execution_count": 6,
   "metadata": {},
   "outputs": [],
   "source": [
    "sorted_idxs = np.argsort(tags_counts)[::-1]\n",
    "tags_counts = tags_counts[sorted_idxs]\n",
    "unique_tags = unique_tags[sorted_idxs]"
   ]
  },
  {
   "cell_type": "code",
   "execution_count": 7,
   "metadata": {},
   "outputs": [],
   "source": [
    "n_tags = 1000\n",
    "n_train, n_test = train_data.shape[0], test_data.shape[0]\n",
    "top_tags = unique_tags[:n_tags]\n",
    "tags_features = np.zeros((n_train + n_test, n_tags), dtype=np.int8)\n",
    "\n",
    "for i, (_, tags_list) in enumerate(tags.items()):\n",
    "    for j, tag in enumerate(top_tags):\n",
    "        if tag in tags_list:\n",
    "            tags_features[i: j] = 1\n",
    "\n",
    "tags_train = sparse.csr_matrix(tags_features[:n_train])\n",
    "tags_test = sparse.csr_matrix(tags_features[n_train:])"
   ]
  },
  {
   "cell_type": "code",
   "execution_count": null,
   "metadata": {},
   "outputs": [],
   "source": []
  },
  {
   "cell_type": "code",
   "execution_count": 29,
   "metadata": {},
   "outputs": [],
   "source": [
    "from sklearn.model_selection import train_test_split\n",
    "x_train, x_val, x_train_tags, x_val_tags, y_train, y_val = train_test_split(train_data, tags_train, labels, test_size=.1, stratify=labels, random_state=0)"
   ]
  },
  {
   "cell_type": "code",
   "execution_count": 30,
   "metadata": {},
   "outputs": [],
   "source": [
    "from sklearn.feature_extraction.text import TfidfVectorizer\n",
    "\n",
    "def apply_tfidf(train_data, test_data):\n",
    "    tfidf = TfidfVectorizer()\n",
    "    train_tfidf = tfidf.fit_transform(train_data)\n",
    "    test_tfidf = tfidf.transform(test_data)\n",
    "    return train_tfidf, test_tfidf"
   ]
  },
  {
   "cell_type": "code",
   "execution_count": 31,
   "metadata": {},
   "outputs": [],
   "source": [
    "x_train_title_tfidf, x_val_title_tfidf = apply_tfidf(x_train.Title, x_val.Title)\n",
    "x_train_body_tfidf, x_val_body_tfidf = apply_tfidf(x_train.Body, x_val.Body)"
   ]
  },
  {
   "cell_type": "code",
   "execution_count": null,
   "metadata": {},
   "outputs": [],
   "source": []
  },
  {
   "cell_type": "code",
   "execution_count": 56,
   "metadata": {},
   "outputs": [],
   "source": [
    "from sklearn.ensemble import StackingClassifier\n",
    "\n",
    "def get_log_reg(trial=None, C=1):\n",
    "    from sklearn.linear_model import LogisticRegression\n",
    "\n",
    "    if trial is not None:\n",
    "        C = trial.suggest_loguniform('C', 1e-5, 1e+3)\n",
    "\n",
    "    return LogisticRegression(C=C, max_iter=10000, random_state=0)\n",
    "\n",
    "def get_stacking_1(trial=None,\n",
    "                   n_neighbors=5,\n",
    "                   n_estimators=100, min_samples_split=2, min_samples_leaf=1,\n",
    "                   C=1):\n",
    "    from sklearn.neighbors import KNeighborsClassifier\n",
    "    from sklearn.ensemble import RandomForestClassifier\n",
    "    from sklearn.linear_model import LogisticRegression\n",
    "\n",
    "    if trial is not None:\n",
    "        n_neighbors = trial.suggest_int('n_neighbors', 5, 100)\n",
    "        n_estimators = trial.suggest_int('n_estimators', 50, 500)\n",
    "        min_samples_split = trial.suggest_int('min_samples_split', 2, 10)\n",
    "        min_samples_leaf = trial.suggest_int('min_samples_leaf', 1, 10)\n",
    "        C = trial.suggest_loguniform('C', 1e-5, 1e+3)\n",
    "\n",
    "    estimators = [\n",
    "        ('knn', KNeighborsClassifier(n_neighbors=n_neighbors)),\n",
    "        ('rf', RandomForestClassifier(n_estimators=n_estimators, min_samples_split=min_samples_split,\n",
    "                                      min_samples_leaf=min_samples_leaf, random_state=0))\n",
    "    ]\n",
    "    final = LogisticRegression(C=C, max_iter=10000, random_state=0)\n",
    "\n",
    "    return StackingClassifier(estimators=estimators, final_estimator=final)"
   ]
  },
  {
   "cell_type": "code",
   "execution_count": 43,
   "metadata": {},
   "outputs": [],
   "source": [
    "from sklearn.metrics import roc_auc_score, accuracy_score\n",
    "\n",
    "def objective_function(estimator_func, train_data, train_labels, test_data, test_labels=None, trial=None):\n",
    "    estimator = estimator_func(trial=trial).fit(train_data, train_labels)\n",
    "    if test_labels is not None:\n",
    "        prediction = estimator.predict(test_data)\n",
    "        return accuracy_score(test_labels, prediction)\n",
    "        # prob = estimator.predict_proba(test_data)\n",
    "        # return roc_auc_score(test_labels, prob, multi_class='ovr')\n",
    "    else:\n",
    "        return estimator.predict(test_data)"
   ]
  },
  {
   "cell_type": "code",
   "execution_count": 46,
   "metadata": {},
   "outputs": [],
   "source": [
    "def optimize(estimator_func, train_data, train_labels, test_data, test_labels, n_trials=10):\n",
    "    study = optuna.create_study(sampler=optuna.samplers.TPESampler(seed=123),\n",
    "                                direction='maximize',\n",
    "                                pruner=optuna.pruners.HyperbandPruner())\n",
    "    objective = lambda trial: objective_function(estimator_func, train_data, train_labels, test_data, test_labels, trial)\n",
    "    study.optimize(objective, n_trials=n_trials, show_progress_bar=True)\n",
    "    return study\n"
   ]
  },
  {
   "cell_type": "code",
   "execution_count": 61,
   "metadata": {},
   "outputs": [
    {
     "name": "stderr",
     "output_type": "stream",
     "text": [
      "Intel(R) Extension for Scikit-learn* enabled (https://github.com/intel/scikit-learn-intelex)\n"
     ]
    }
   ],
   "source": [
    "from sklearnex import patch_sklearn, unpatch_sklearn\n",
    "# patch_sklearn()\n",
    "# unpatch_sklearn()\n",
    "patch_sklearn('knn_classifier')"
   ]
  },
  {
   "cell_type": "code",
   "execution_count": null,
   "metadata": {},
   "outputs": [],
   "source": []
  },
  {
   "cell_type": "code",
   "execution_count": 35,
   "metadata": {},
   "outputs": [],
   "source": [
    "x_train = sparse.hstack([x_train_title_tfidf, x_train_body_tfidf, x_train_tags])\n",
    "x_val = sparse.hstack([x_val_title_tfidf, x_val_body_tfidf, x_val_tags])"
   ]
  },
  {
   "cell_type": "code",
   "execution_count": 36,
   "metadata": {},
   "outputs": [
    {
     "data": {
      "text/plain": [
       "((43200, 19964), (43200, 190892), (43200, 1000))"
      ]
     },
     "execution_count": 36,
     "metadata": {},
     "output_type": "execute_result"
    }
   ],
   "source": [
    "x_train_title_tfidf.shape, x_train_body_tfidf.shape, x_train_tags.shape"
   ]
  },
  {
   "cell_type": "code",
   "execution_count": 37,
   "metadata": {},
   "outputs": [
    {
     "data": {
      "text/plain": [
       "((4800, 19964), (4800, 190892), (4800, 1000))"
      ]
     },
     "execution_count": 37,
     "metadata": {},
     "output_type": "execute_result"
    }
   ],
   "source": [
    "x_val_title_tfidf.shape, x_val_body_tfidf.shape, x_val_tags.shape"
   ]
  },
  {
   "cell_type": "markdown",
   "metadata": {},
   "source": [
    "## Roc-auc LogReg"
   ]
  },
  {
   "cell_type": "code",
   "execution_count": 38,
   "metadata": {},
   "outputs": [
    {
     "name": "stderr",
     "output_type": "stream",
     "text": [
      "\u001b[32m[I 2021-11-25 21:35:27,403]\u001b[0m A new study created in memory with name: no-name-9f8441d0-e565-4efd-8ea5-86b04b976c06\u001b[0m\n",
      "C:\\Users\\nikti\\miniconda3\\envs\\nlp\\lib\\site-packages\\optuna\\progress_bar.py:47: ExperimentalWarning: Progress bar is experimental (supported from v1.2.0). The interface can change in the future.\n",
      "  self._init_valid()\n",
      "  0%|          | 0/10 [00:00<?, ?it/s]C:\\Users\\nikti\\miniconda3\\envs\\nlp\\lib\\site-packages\\sklearn\\linear_model\\_logistic.py:814: ConvergenceWarning: lbfgs failed to converge (status=1):\n",
      "STOP: TOTAL NO. of ITERATIONS REACHED LIMIT.\n",
      "\n",
      "Increase the number of iterations (max_iter) or scale the data as shown in:\n",
      "    https://scikit-learn.org/stable/modules/preprocessing.html\n",
      "Please also refer to the documentation for alternative solver options:\n",
      "    https://scikit-learn.org/stable/modules/linear_model.html#logistic-regression\n",
      "  n_iter_i = _check_optimize_result(\n",
      " 10%|█         | 1/10 [02:07<19:03, 127.08s/it]"
     ]
    },
    {
     "name": "stdout",
     "output_type": "stream",
     "text": [
      "\u001b[32m[I 2021-11-25 21:37:34,487]\u001b[0m Trial 0 finished with value: 0.9486876302083332 and parameters: {'C': 3.730383528143731}. Best is trial 0 with value: 0.9486876302083332.\u001b[0m\n"
     ]
    },
    {
     "name": "stderr",
     "output_type": "stream",
     "text": [
      " 20%|██        | 2/10 [02:11<07:20, 55.01s/it] "
     ]
    },
    {
     "name": "stdout",
     "output_type": "stream",
     "text": [
      "\u001b[32m[I 2021-11-25 21:37:39,054]\u001b[0m Trial 1 finished with value: 0.8697731119791667 and parameters: {'C': 0.0019458738403480128}. Best is trial 1 with value: 0.8697731119791667.\u001b[0m\n"
     ]
    },
    {
     "name": "stderr",
     "output_type": "stream",
     "text": [
      " 30%|███       | 3/10 [02:15<03:41, 31.69s/it]"
     ]
    },
    {
     "name": "stdout",
     "output_type": "stream",
     "text": [
      "\u001b[32m[I 2021-11-25 21:37:42,984]\u001b[0m Trial 2 finished with value: 0.8545449218750001 and parameters: {'C': 0.0006528473243309113}. Best is trial 2 with value: 0.8545449218750001.\u001b[0m\n"
     ]
    },
    {
     "name": "stderr",
     "output_type": "stream",
     "text": [
      " 40%|████      | 4/10 [02:56<03:32, 35.47s/it]"
     ]
    },
    {
     "name": "stdout",
     "output_type": "stream",
     "text": [
      "\u001b[32m[I 2021-11-25 21:38:24,260]\u001b[0m Trial 3 finished with value: 0.9472223958333332 and parameters: {'C': 0.25734643279726915}. Best is trial 2 with value: 0.8545449218750001.\u001b[0m\n"
     ]
    },
    {
     "name": "stderr",
     "output_type": "stream",
     "text": [
      "C:\\Users\\nikti\\miniconda3\\envs\\nlp\\lib\\site-packages\\sklearn\\linear_model\\_logistic.py:814: ConvergenceWarning: lbfgs failed to converge (status=1):\n",
      "STOP: TOTAL NO. of ITERATIONS REACHED LIMIT.\n",
      "\n",
      "Increase the number of iterations (max_iter) or scale the data as shown in:\n",
      "    https://scikit-learn.org/stable/modules/preprocessing.html\n",
      "Please also refer to the documentation for alternative solver options:\n",
      "    https://scikit-learn.org/stable/modules/linear_model.html#logistic-regression\n",
      "  n_iter_i = _check_optimize_result(\n",
      " 50%|█████     | 5/10 [05:10<05:55, 71.02s/it]"
     ]
    },
    {
     "name": "stdout",
     "output_type": "stream",
     "text": [
      "\u001b[32m[I 2021-11-25 21:40:38,315]\u001b[0m Trial 4 finished with value: 0.9470489583333334 and parameters: {'C': 5.698384608345687}. Best is trial 2 with value: 0.8545449218750001.\u001b[0m\n"
     ]
    },
    {
     "name": "stderr",
     "output_type": "stream",
     "text": [
      " 60%|██████    | 6/10 [05:28<03:31, 52.91s/it]"
     ]
    },
    {
     "name": "stdout",
     "output_type": "stream",
     "text": [
      "\u001b[32m[I 2021-11-25 21:40:56,063]\u001b[0m Trial 5 finished with value: 0.9186776692708332 and parameters: {'C': 0.024257815076676004}. Best is trial 2 with value: 0.8545449218750001.\u001b[0m\n"
     ]
    },
    {
     "name": "stderr",
     "output_type": "stream",
     "text": [
      "C:\\Users\\nikti\\miniconda3\\envs\\nlp\\lib\\site-packages\\sklearn\\linear_model\\_logistic.py:814: ConvergenceWarning: lbfgs failed to converge (status=1):\n",
      "STOP: TOTAL NO. of ITERATIONS REACHED LIMIT.\n",
      "\n",
      "Increase the number of iterations (max_iter) or scale the data as shown in:\n",
      "    https://scikit-learn.org/stable/modules/preprocessing.html\n",
      "Please also refer to the documentation for alternative solver options:\n",
      "    https://scikit-learn.org/stable/modules/linear_model.html#logistic-regression\n",
      "  n_iter_i = _check_optimize_result(\n",
      " 70%|███████   | 7/10 [07:36<03:51, 77.29s/it]"
     ]
    },
    {
     "name": "stdout",
     "output_type": "stream",
     "text": [
      "\u001b[32m[I 2021-11-25 21:43:03,561]\u001b[0m Trial 6 finished with value: 0.9338194010416667 and parameters: {'C': 701.6387837751602}. Best is trial 2 with value: 0.8545449218750001.\u001b[0m\n"
     ]
    },
    {
     "name": "stderr",
     "output_type": "stream",
     "text": [
      " 80%|████████  | 8/10 [09:21<02:52, 86.34s/it]"
     ]
    },
    {
     "name": "stdout",
     "output_type": "stream",
     "text": [
      "\u001b[32m[I 2021-11-25 21:44:49,284]\u001b[0m Trial 7 finished with value: 0.9494252604166666 and parameters: {'C': 3.0104949891579693}. Best is trial 2 with value: 0.8545449218750001.\u001b[0m\n"
     ]
    },
    {
     "name": "stderr",
     "output_type": "stream",
     "text": [
      " 90%|█████████ | 9/10 [09:50<01:08, 68.36s/it]"
     ]
    },
    {
     "name": "stdout",
     "output_type": "stream",
     "text": [
      "\u001b[32m[I 2021-11-25 21:45:18,097]\u001b[0m Trial 8 finished with value: 0.9352186197916666 and parameters: {'C': 0.0703809641382708}. Best is trial 2 with value: 0.8545449218750001.\u001b[0m\n"
     ]
    },
    {
     "name": "stderr",
     "output_type": "stream",
     "text": [
      "100%|██████████| 10/10 [10:03<00:00, 60.34s/it]"
     ]
    },
    {
     "name": "stdout",
     "output_type": "stream",
     "text": [
      "\u001b[32m[I 2021-11-25 21:45:30,821]\u001b[0m Trial 9 finished with value: 0.9074848958333334 and parameters: {'C': 0.013706928443177698}. Best is trial 2 with value: 0.8545449218750001.\u001b[0m\n"
     ]
    },
    {
     "name": "stderr",
     "output_type": "stream",
     "text": [
      "\n"
     ]
    }
   ],
   "source": [
    "study_log_reg = optimize(get_log_reg, x_train, y_train, x_val, y_val)"
   ]
  },
  {
   "cell_type": "markdown",
   "metadata": {},
   "source": [
    "## Accuracy LogReg"
   ]
  },
  {
   "cell_type": "code",
   "execution_count": 47,
   "metadata": {},
   "outputs": [
    {
     "name": "stderr",
     "output_type": "stream",
     "text": [
      "\u001b[32m[I 2021-11-25 22:11:11,082]\u001b[0m A new study created in memory with name: no-name-42d2eed7-2f8d-4d34-b164-f91575674cb4\u001b[0m\n",
      "C:\\Users\\nikti\\miniconda3\\envs\\nlp\\lib\\site-packages\\optuna\\progress_bar.py:47: ExperimentalWarning: Progress bar is experimental (supported from v1.2.0). The interface can change in the future.\n",
      "  self._init_valid()\n",
      " 10%|█         | 1/10 [02:25<21:50, 145.64s/it]"
     ]
    },
    {
     "name": "stdout",
     "output_type": "stream",
     "text": [
      "\u001b[32m[I 2021-11-25 22:13:36,727]\u001b[0m Trial 0 finished with value: 0.8189583333333333 and parameters: {'C': 3.730383528143731}. Best is trial 0 with value: 0.8189583333333333.\u001b[0m\n"
     ]
    },
    {
     "name": "stderr",
     "output_type": "stream",
     "text": [
      " 20%|██        | 2/10 [02:30<08:20, 62.56s/it] "
     ]
    },
    {
     "name": "stdout",
     "output_type": "stream",
     "text": [
      "\u001b[32m[I 2021-11-25 22:13:41,131]\u001b[0m Trial 1 finished with value: 0.7108333333333333 and parameters: {'C': 0.0019458738403480128}. Best is trial 0 with value: 0.8189583333333333.\u001b[0m\n"
     ]
    },
    {
     "name": "stderr",
     "output_type": "stream",
     "text": [
      " 30%|███       | 3/10 [02:34<04:10, 35.84s/it]"
     ]
    },
    {
     "name": "stdout",
     "output_type": "stream",
     "text": [
      "\u001b[32m[I 2021-11-25 22:13:45,182]\u001b[0m Trial 2 finished with value: 0.6908333333333333 and parameters: {'C': 0.0006528473243309113}. Best is trial 0 with value: 0.8189583333333333.\u001b[0m\n"
     ]
    },
    {
     "name": "stderr",
     "output_type": "stream",
     "text": [
      " 40%|████      | 4/10 [03:15<03:47, 37.96s/it]"
     ]
    },
    {
     "name": "stdout",
     "output_type": "stream",
     "text": [
      "\u001b[32m[I 2021-11-25 22:14:26,390]\u001b[0m Trial 3 finished with value: 0.8177083333333334 and parameters: {'C': 0.25734643279726915}. Best is trial 0 with value: 0.8189583333333333.\u001b[0m\n"
     ]
    },
    {
     "name": "stderr",
     "output_type": "stream",
     "text": [
      " 50%|█████     | 5/10 [05:40<06:23, 76.61s/it]"
     ]
    },
    {
     "name": "stdout",
     "output_type": "stream",
     "text": [
      "\u001b[32m[I 2021-11-25 22:16:51,526]\u001b[0m Trial 4 finished with value: 0.816875 and parameters: {'C': 5.698384608345687}. Best is trial 0 with value: 0.8189583333333333.\u001b[0m\n"
     ]
    },
    {
     "name": "stderr",
     "output_type": "stream",
     "text": [
      " 60%|██████    | 6/10 [05:57<03:45, 56.40s/it]"
     ]
    },
    {
     "name": "stdout",
     "output_type": "stream",
     "text": [
      "\u001b[32m[I 2021-11-25 22:17:08,690]\u001b[0m Trial 5 finished with value: 0.7758333333333334 and parameters: {'C': 0.024257815076676004}. Best is trial 0 with value: 0.8189583333333333.\u001b[0m\n"
     ]
    },
    {
     "name": "stderr",
     "output_type": "stream",
     "text": [
      " 70%|███████   | 7/10 [12:41<08:30, 170.13s/it]"
     ]
    },
    {
     "name": "stdout",
     "output_type": "stream",
     "text": [
      "\u001b[32m[I 2021-11-25 22:23:52,962]\u001b[0m Trial 6 finished with value: 0.793125 and parameters: {'C': 701.6387837751602}. Best is trial 0 with value: 0.8189583333333333.\u001b[0m\n"
     ]
    },
    {
     "name": "stderr",
     "output_type": "stream",
     "text": [
      " 80%|████████  | 8/10 [14:30<05:00, 150.40s/it]"
     ]
    },
    {
     "name": "stdout",
     "output_type": "stream",
     "text": [
      "\u001b[32m[I 2021-11-25 22:25:41,134]\u001b[0m Trial 7 finished with value: 0.8197916666666667 and parameters: {'C': 3.0104949891579693}. Best is trial 7 with value: 0.8197916666666667.\u001b[0m\n"
     ]
    },
    {
     "name": "stderr",
     "output_type": "stream",
     "text": [
      " 90%|█████████ | 9/10 [14:56<01:51, 111.63s/it]"
     ]
    },
    {
     "name": "stdout",
     "output_type": "stream",
     "text": [
      "\u001b[32m[I 2021-11-25 22:26:07,497]\u001b[0m Trial 8 finished with value: 0.798125 and parameters: {'C': 0.0703809641382708}. Best is trial 7 with value: 0.8197916666666667.\u001b[0m\n"
     ]
    },
    {
     "name": "stderr",
     "output_type": "stream",
     "text": [
      "100%|██████████| 10/10 [15:08<00:00, 90.83s/it]"
     ]
    },
    {
     "name": "stdout",
     "output_type": "stream",
     "text": [
      "\u001b[32m[I 2021-11-25 22:26:19,384]\u001b[0m Trial 9 finished with value: 0.7608333333333334 and parameters: {'C': 0.013706928443177698}. Best is trial 7 with value: 0.8197916666666667.\u001b[0m\n"
     ]
    },
    {
     "name": "stderr",
     "output_type": "stream",
     "text": [
      "\n"
     ]
    }
   ],
   "source": [
    "study_acc_log_reg = optimize(get_log_reg, x_train, y_train, x_val, y_val)"
   ]
  },
  {
   "cell_type": "code",
   "execution_count": null,
   "metadata": {},
   "outputs": [],
   "source": []
  },
  {
   "cell_type": "code",
   "execution_count": 48,
   "metadata": {},
   "outputs": [],
   "source": [
    "x_full_train_title_tfidf, x_test_title_tfidf = apply_tfidf(train_data.Title, test_data.Title)\n",
    "x_full_train_body_tfidf, x_test_body_tfidf = apply_tfidf(train_data.Body, test_data.Body)"
   ]
  },
  {
   "cell_type": "code",
   "execution_count": 51,
   "metadata": {},
   "outputs": [],
   "source": [
    "prediction = objective_function(lambda trial: get_log_reg(C=study_acc_log_reg.best_params['C']),\n",
    "                                sparse.hstack([x_full_train_title_tfidf, x_full_train_body_tfidf, tags_train]),\n",
    "                                labels,\n",
    "                                sparse.hstack([x_test_title_tfidf, x_test_body_tfidf, tags_test]))"
   ]
  },
  {
   "cell_type": "code",
   "execution_count": 52,
   "metadata": {},
   "outputs": [],
   "source": [
    "submission = pd.DataFrame({'Id': test_df.index, 'Predicted': prediction})\n",
    "submission.to_csv('submissions/tfidf_log_reg.csv', index=False)"
   ]
  },
  {
   "cell_type": "code",
   "execution_count": null,
   "metadata": {},
   "outputs": [],
   "source": []
  },
  {
   "cell_type": "markdown",
   "metadata": {},
   "source": [
    "## Stacking 1"
   ]
  },
  {
   "cell_type": "code",
   "execution_count": 64,
   "metadata": {},
   "outputs": [
    {
     "name": "stderr",
     "output_type": "stream",
     "text": [
      "\u001b[32m[I 2021-11-29 10:50:25,467]\u001b[0m A new study created in memory with name: no-name-4a80f369-bc3c-4593-b8b9-f04e8172de17\u001b[0m\n",
      "C:\\Users\\nikti\\miniconda3\\envs\\nlp\\lib\\site-packages\\optuna\\progress_bar.py:47: ExperimentalWarning: Progress bar is experimental (supported from v1.2.0). The interface can change in the future.\n",
      "  self._init_valid()\n",
      "  0%|          | 0/10 [00:00<?, ?it/s]C:\\Users\\nikti\\miniconda3\\envs\\nlp\\lib\\site-packages\\daal4py\\sklearn\\neighbors\\_base.py:357: DataConversionWarning: A column-vector y was passed when a 1d array was expected. Please change the shape of y to (n_samples,), for example using ravel().\n",
      "  result = super(NeighborsBase, self)._fit(X, y)\n",
      "C:\\Users\\nikti\\miniconda3\\envs\\nlp\\lib\\site-packages\\daal4py\\sklearn\\neighbors\\_base.py:357: DataConversionWarning: A column-vector y was passed when a 1d array was expected. Please change the shape of y to (n_samples,), for example using ravel().\n",
      "  result = super(NeighborsBase, self)._fit(X, y)\n",
      "C:\\Users\\nikti\\miniconda3\\envs\\nlp\\lib\\site-packages\\daal4py\\sklearn\\neighbors\\_base.py:357: DataConversionWarning: A column-vector y was passed when a 1d array was expected. Please change the shape of y to (n_samples,), for example using ravel().\n",
      "  result = super(NeighborsBase, self)._fit(X, y)\n",
      "C:\\Users\\nikti\\miniconda3\\envs\\nlp\\lib\\site-packages\\daal4py\\sklearn\\neighbors\\_base.py:357: DataConversionWarning: A column-vector y was passed when a 1d array was expected. Please change the shape of y to (n_samples,), for example using ravel().\n",
      "  result = super(NeighborsBase, self)._fit(X, y)\n",
      "C:\\Users\\nikti\\miniconda3\\envs\\nlp\\lib\\site-packages\\daal4py\\sklearn\\neighbors\\_base.py:357: DataConversionWarning: A column-vector y was passed when a 1d array was expected. Please change the shape of y to (n_samples,), for example using ravel().\n",
      "  result = super(NeighborsBase, self)._fit(X, y)\n",
      "C:\\Users\\nikti\\miniconda3\\envs\\nlp\\lib\\site-packages\\daal4py\\sklearn\\neighbors\\_base.py:357: DataConversionWarning: A column-vector y was passed when a 1d array was expected. Please change the shape of y to (n_samples,), for example using ravel().\n",
      "  result = super(NeighborsBase, self)._fit(X, y)\n",
      " 10%|█         | 1/10 [13:06<1:58:01, 786.80s/it]C:\\Users\\nikti\\miniconda3\\envs\\nlp\\lib\\site-packages\\daal4py\\sklearn\\neighbors\\_base.py:357: DataConversionWarning: A column-vector y was passed when a 1d array was expected. Please change the shape of y to (n_samples,), for example using ravel().\n",
      "  result = super(NeighborsBase, self)._fit(X, y)\n"
     ]
    },
    {
     "name": "stdout",
     "output_type": "stream",
     "text": [
      "\u001b[32m[I 2021-11-29 11:03:32,270]\u001b[0m Trial 0 finished with value: 0.8045833333333333 and parameters: {'n_neighbors': 71, 'n_estimators': 179, 'min_samples_split': 4, 'min_samples_leaf': 6, 'C': 5.698384608345687}. Best is trial 0 with value: 0.8045833333333333.\u001b[0m\n"
     ]
    },
    {
     "name": "stderr",
     "output_type": "stream",
     "text": [
      "C:\\Users\\nikti\\miniconda3\\envs\\nlp\\lib\\site-packages\\daal4py\\sklearn\\neighbors\\_base.py:357: DataConversionWarning: A column-vector y was passed when a 1d array was expected. Please change the shape of y to (n_samples,), for example using ravel().\n",
      "  result = super(NeighborsBase, self)._fit(X, y)\n",
      "C:\\Users\\nikti\\miniconda3\\envs\\nlp\\lib\\site-packages\\daal4py\\sklearn\\neighbors\\_base.py:357: DataConversionWarning: A column-vector y was passed when a 1d array was expected. Please change the shape of y to (n_samples,), for example using ravel().\n",
      "  result = super(NeighborsBase, self)._fit(X, y)\n",
      "C:\\Users\\nikti\\miniconda3\\envs\\nlp\\lib\\site-packages\\daal4py\\sklearn\\neighbors\\_base.py:357: DataConversionWarning: A column-vector y was passed when a 1d array was expected. Please change the shape of y to (n_samples,), for example using ravel().\n",
      "  result = super(NeighborsBase, self)._fit(X, y)\n",
      "C:\\Users\\nikti\\miniconda3\\envs\\nlp\\lib\\site-packages\\daal4py\\sklearn\\neighbors\\_base.py:357: DataConversionWarning: A column-vector y was passed when a 1d array was expected. Please change the shape of y to (n_samples,), for example using ravel().\n",
      "  result = super(NeighborsBase, self)._fit(X, y)\n",
      "C:\\Users\\nikti\\miniconda3\\envs\\nlp\\lib\\site-packages\\daal4py\\sklearn\\neighbors\\_base.py:357: DataConversionWarning: A column-vector y was passed when a 1d array was expected. Please change the shape of y to (n_samples,), for example using ravel().\n",
      "  result = super(NeighborsBase, self)._fit(X, y)\n",
      " 20%|██        | 2/10 [42:12<3:00:05, 1350.70s/it]C:\\Users\\nikti\\miniconda3\\envs\\nlp\\lib\\site-packages\\daal4py\\sklearn\\neighbors\\_base.py:357: DataConversionWarning: A column-vector y was passed when a 1d array was expected. Please change the shape of y to (n_samples,), for example using ravel().\n",
      "  result = super(NeighborsBase, self)._fit(X, y)\n"
     ]
    },
    {
     "name": "stdout",
     "output_type": "stream",
     "text": [
      "\u001b[32m[I 2021-11-29 11:32:37,693]\u001b[0m Trial 1 finished with value: 0.7835416666666667 and parameters: {'n_neighbors': 45, 'n_estimators': 492, 'min_samples_split': 8, 'min_samples_leaf': 5, 'C': 0.013706928443177698}. Best is trial 0 with value: 0.8045833333333333.\u001b[0m\n"
     ]
    },
    {
     "name": "stderr",
     "output_type": "stream",
     "text": [
      "C:\\Users\\nikti\\miniconda3\\envs\\nlp\\lib\\site-packages\\daal4py\\sklearn\\neighbors\\_base.py:357: DataConversionWarning: A column-vector y was passed when a 1d array was expected. Please change the shape of y to (n_samples,), for example using ravel().\n",
      "  result = super(NeighborsBase, self)._fit(X, y)\n",
      "C:\\Users\\nikti\\miniconda3\\envs\\nlp\\lib\\site-packages\\daal4py\\sklearn\\neighbors\\_base.py:357: DataConversionWarning: A column-vector y was passed when a 1d array was expected. Please change the shape of y to (n_samples,), for example using ravel().\n",
      "  result = super(NeighborsBase, self)._fit(X, y)\n",
      "C:\\Users\\nikti\\miniconda3\\envs\\nlp\\lib\\site-packages\\daal4py\\sklearn\\neighbors\\_base.py:357: DataConversionWarning: A column-vector y was passed when a 1d array was expected. Please change the shape of y to (n_samples,), for example using ravel().\n",
      "  result = super(NeighborsBase, self)._fit(X, y)\n",
      "C:\\Users\\nikti\\miniconda3\\envs\\nlp\\lib\\site-packages\\daal4py\\sklearn\\neighbors\\_base.py:357: DataConversionWarning: A column-vector y was passed when a 1d array was expected. Please change the shape of y to (n_samples,), for example using ravel().\n",
      "  result = super(NeighborsBase, self)._fit(X, y)\n",
      "C:\\Users\\nikti\\miniconda3\\envs\\nlp\\lib\\site-packages\\daal4py\\sklearn\\neighbors\\_base.py:357: DataConversionWarning: A column-vector y was passed when a 1d array was expected. Please change the shape of y to (n_samples,), for example using ravel().\n",
      "  result = super(NeighborsBase, self)._fit(X, y)\n",
      " 30%|███       | 3/10 [1:59:31<5:32:46, 2852.39s/it]"
     ]
    },
    {
     "name": "stdout",
     "output_type": "stream",
     "text": [
      "\u001b[32m[I 2021-11-29 12:49:57,109]\u001b[0m Trial 2 finished with value: 0.8047916666666667 and parameters: {'n_neighbors': 37, 'n_estimators': 378, 'min_samples_split': 5, 'min_samples_leaf': 1, 'C': 0.015288118581527262}. Best is trial 2 with value: 0.8047916666666667.\u001b[0m\n"
     ]
    },
    {
     "name": "stderr",
     "output_type": "stream",
     "text": [
      "C:\\Users\\nikti\\miniconda3\\envs\\nlp\\lib\\site-packages\\daal4py\\sklearn\\neighbors\\_base.py:357: DataConversionWarning: A column-vector y was passed when a 1d array was expected. Please change the shape of y to (n_samples,), for example using ravel().\n",
      "  result = super(NeighborsBase, self)._fit(X, y)\n",
      "C:\\Users\\nikti\\miniconda3\\envs\\nlp\\lib\\site-packages\\daal4py\\sklearn\\neighbors\\_base.py:357: DataConversionWarning: A column-vector y was passed when a 1d array was expected. Please change the shape of y to (n_samples,), for example using ravel().\n",
      "  result = super(NeighborsBase, self)._fit(X, y)\n",
      "C:\\Users\\nikti\\miniconda3\\envs\\nlp\\lib\\site-packages\\daal4py\\sklearn\\neighbors\\_base.py:357: DataConversionWarning: A column-vector y was passed when a 1d array was expected. Please change the shape of y to (n_samples,), for example using ravel().\n",
      "  result = super(NeighborsBase, self)._fit(X, y)\n",
      "C:\\Users\\nikti\\miniconda3\\envs\\nlp\\lib\\site-packages\\daal4py\\sklearn\\neighbors\\_base.py:357: DataConversionWarning: A column-vector y was passed when a 1d array was expected. Please change the shape of y to (n_samples,), for example using ravel().\n",
      "  result = super(NeighborsBase, self)._fit(X, y)\n",
      "C:\\Users\\nikti\\miniconda3\\envs\\nlp\\lib\\site-packages\\daal4py\\sklearn\\neighbors\\_base.py:357: DataConversionWarning: A column-vector y was passed when a 1d array was expected. Please change the shape of y to (n_samples,), for example using ravel().\n",
      "  result = super(NeighborsBase, self)._fit(X, y)\n",
      "C:\\Users\\nikti\\miniconda3\\envs\\nlp\\lib\\site-packages\\daal4py\\sklearn\\neighbors\\_base.py:357: DataConversionWarning: A column-vector y was passed when a 1d array was expected. Please change the shape of y to (n_samples,), for example using ravel().\n",
      "  result = super(NeighborsBase, self)._fit(X, y)\n",
      " 40%|████      | 4/10 [2:08:23<3:13:38, 1936.45s/it]"
     ]
    },
    {
     "name": "stdout",
     "output_type": "stream",
     "text": [
      "\u001b[32m[I 2021-11-29 12:58:49,402]\u001b[0m Trial 3 finished with value: 0.79875 and parameters: {'n_neighbors': 75, 'n_estimators': 132, 'min_samples_split': 3, 'min_samples_leaf': 6, 'C': 0.17973005068132514}. Best is trial 2 with value: 0.8047916666666667.\u001b[0m\n"
     ]
    },
    {
     "name": "stderr",
     "output_type": "stream",
     "text": [
      "C:\\Users\\nikti\\miniconda3\\envs\\nlp\\lib\\site-packages\\daal4py\\sklearn\\neighbors\\_base.py:357: DataConversionWarning: A column-vector y was passed when a 1d array was expected. Please change the shape of y to (n_samples,), for example using ravel().\n",
      "  result = super(NeighborsBase, self)._fit(X, y)\n",
      "C:\\Users\\nikti\\miniconda3\\envs\\nlp\\lib\\site-packages\\daal4py\\sklearn\\neighbors\\_base.py:357: DataConversionWarning: A column-vector y was passed when a 1d array was expected. Please change the shape of y to (n_samples,), for example using ravel().\n",
      "  result = super(NeighborsBase, self)._fit(X, y)\n",
      "C:\\Users\\nikti\\miniconda3\\envs\\nlp\\lib\\site-packages\\daal4py\\sklearn\\neighbors\\_base.py:357: DataConversionWarning: A column-vector y was passed when a 1d array was expected. Please change the shape of y to (n_samples,), for example using ravel().\n",
      "  result = super(NeighborsBase, self)._fit(X, y)\n",
      "C:\\Users\\nikti\\miniconda3\\envs\\nlp\\lib\\site-packages\\daal4py\\sklearn\\neighbors\\_base.py:357: DataConversionWarning: A column-vector y was passed when a 1d array was expected. Please change the shape of y to (n_samples,), for example using ravel().\n",
      "  result = super(NeighborsBase, self)._fit(X, y)\n",
      "C:\\Users\\nikti\\miniconda3\\envs\\nlp\\lib\\site-packages\\daal4py\\sklearn\\neighbors\\_base.py:357: DataConversionWarning: A column-vector y was passed when a 1d array was expected. Please change the shape of y to (n_samples,), for example using ravel().\n",
      "  result = super(NeighborsBase, self)._fit(X, y)\n",
      "C:\\Users\\nikti\\miniconda3\\envs\\nlp\\lib\\site-packages\\daal4py\\sklearn\\neighbors\\_base.py:357: DataConversionWarning: A column-vector y was passed when a 1d array was expected. Please change the shape of y to (n_samples,), for example using ravel().\n",
      "  result = super(NeighborsBase, self)._fit(X, y)\n",
      " 50%|█████     | 5/10 [2:31:04<2:24:03, 1728.74s/it]"
     ]
    },
    {
     "name": "stdout",
     "output_type": "stream",
     "text": [
      "\u001b[32m[I 2021-11-29 13:21:29,870]\u001b[0m Trial 4 finished with value: 0.80125 and parameters: {'n_neighbors': 65, 'n_estimators': 433, 'min_samples_split': 8, 'min_samples_leaf': 7, 'C': 6.019314852321072}. Best is trial 2 with value: 0.8047916666666667.\u001b[0m\n"
     ]
    },
    {
     "name": "stderr",
     "output_type": "stream",
     "text": [
      "C:\\Users\\nikti\\miniconda3\\envs\\nlp\\lib\\site-packages\\daal4py\\sklearn\\neighbors\\_base.py:357: DataConversionWarning: A column-vector y was passed when a 1d array was expected. Please change the shape of y to (n_samples,), for example using ravel().\n",
      "  result = super(NeighborsBase, self)._fit(X, y)\n",
      "C:\\Users\\nikti\\miniconda3\\envs\\nlp\\lib\\site-packages\\daal4py\\sklearn\\neighbors\\_base.py:357: DataConversionWarning: A column-vector y was passed when a 1d array was expected. Please change the shape of y to (n_samples,), for example using ravel().\n",
      "  result = super(NeighborsBase, self)._fit(X, y)\n",
      "C:\\Users\\nikti\\miniconda3\\envs\\nlp\\lib\\site-packages\\daal4py\\sklearn\\neighbors\\_base.py:357: DataConversionWarning: A column-vector y was passed when a 1d array was expected. Please change the shape of y to (n_samples,), for example using ravel().\n",
      "  result = super(NeighborsBase, self)._fit(X, y)\n",
      "C:\\Users\\nikti\\miniconda3\\envs\\nlp\\lib\\site-packages\\daal4py\\sklearn\\neighbors\\_base.py:357: DataConversionWarning: A column-vector y was passed when a 1d array was expected. Please change the shape of y to (n_samples,), for example using ravel().\n",
      "  result = super(NeighborsBase, self)._fit(X, y)\n",
      "C:\\Users\\nikti\\miniconda3\\envs\\nlp\\lib\\site-packages\\daal4py\\sklearn\\neighbors\\_base.py:357: DataConversionWarning: A column-vector y was passed when a 1d array was expected. Please change the shape of y to (n_samples,), for example using ravel().\n",
      "  result = super(NeighborsBase, self)._fit(X, y)\n",
      "C:\\Users\\nikti\\miniconda3\\envs\\nlp\\lib\\site-packages\\daal4py\\sklearn\\neighbors\\_base.py:357: DataConversionWarning: A column-vector y was passed when a 1d array was expected. Please change the shape of y to (n_samples,), for example using ravel().\n",
      "  result = super(NeighborsBase, self)._fit(X, y)\n",
      " 60%|██████    | 6/10 [2:47:59<1:39:04, 1486.21s/it]"
     ]
    },
    {
     "name": "stdout",
     "output_type": "stream",
     "text": [
      "\u001b[32m[I 2021-11-29 13:38:25,283]\u001b[0m Trial 5 finished with value: 0.8054166666666667 and parameters: {'n_neighbors': 36, 'n_estimators': 213, 'min_samples_split': 4, 'min_samples_leaf': 3, 'C': 1.1163721427400002}. Best is trial 5 with value: 0.8054166666666667.\u001b[0m\n"
     ]
    },
    {
     "name": "stderr",
     "output_type": "stream",
     "text": [
      "C:\\Users\\nikti\\miniconda3\\envs\\nlp\\lib\\site-packages\\daal4py\\sklearn\\neighbors\\_base.py:357: DataConversionWarning: A column-vector y was passed when a 1d array was expected. Please change the shape of y to (n_samples,), for example using ravel().\n",
      "  result = super(NeighborsBase, self)._fit(X, y)\n",
      "C:\\Users\\nikti\\miniconda3\\envs\\nlp\\lib\\site-packages\\daal4py\\sklearn\\neighbors\\_base.py:357: DataConversionWarning: A column-vector y was passed when a 1d array was expected. Please change the shape of y to (n_samples,), for example using ravel().\n",
      "  result = super(NeighborsBase, self)._fit(X, y)\n",
      "C:\\Users\\nikti\\miniconda3\\envs\\nlp\\lib\\site-packages\\daal4py\\sklearn\\neighbors\\_base.py:357: DataConversionWarning: A column-vector y was passed when a 1d array was expected. Please change the shape of y to (n_samples,), for example using ravel().\n",
      "  result = super(NeighborsBase, self)._fit(X, y)\n",
      "C:\\Users\\nikti\\miniconda3\\envs\\nlp\\lib\\site-packages\\daal4py\\sklearn\\neighbors\\_base.py:357: DataConversionWarning: A column-vector y was passed when a 1d array was expected. Please change the shape of y to (n_samples,), for example using ravel().\n",
      "  result = super(NeighborsBase, self)._fit(X, y)\n",
      "C:\\Users\\nikti\\miniconda3\\envs\\nlp\\lib\\site-packages\\daal4py\\sklearn\\neighbors\\_base.py:357: DataConversionWarning: A column-vector y was passed when a 1d array was expected. Please change the shape of y to (n_samples,), for example using ravel().\n",
      "  result = super(NeighborsBase, self)._fit(X, y)\n",
      "C:\\Users\\nikti\\miniconda3\\envs\\nlp\\lib\\site-packages\\daal4py\\sklearn\\neighbors\\_base.py:357: DataConversionWarning: A column-vector y was passed when a 1d array was expected. Please change the shape of y to (n_samples,), for example using ravel().\n",
      "  result = super(NeighborsBase, self)._fit(X, y)\n",
      " 70%|███████   | 7/10 [3:03:45<1:05:28, 1309.57s/it]"
     ]
    },
    {
     "name": "stdout",
     "output_type": "stream",
     "text": [
      "\u001b[32m[I 2021-11-29 13:54:11,196]\u001b[0m Trial 6 finished with value: 0.786875 and parameters: {'n_neighbors': 13, 'n_estimators': 245, 'min_samples_split': 5, 'min_samples_leaf': 5, 'C': 0.025505998062850126}. Best is trial 5 with value: 0.8054166666666667.\u001b[0m\n"
     ]
    },
    {
     "name": "stderr",
     "output_type": "stream",
     "text": [
      "C:\\Users\\nikti\\miniconda3\\envs\\nlp\\lib\\site-packages\\daal4py\\sklearn\\neighbors\\_base.py:357: DataConversionWarning: A column-vector y was passed when a 1d array was expected. Please change the shape of y to (n_samples,), for example using ravel().\n",
      "  result = super(NeighborsBase, self)._fit(X, y)\n",
      "C:\\Users\\nikti\\miniconda3\\envs\\nlp\\lib\\site-packages\\daal4py\\sklearn\\neighbors\\_base.py:357: DataConversionWarning: A column-vector y was passed when a 1d array was expected. Please change the shape of y to (n_samples,), for example using ravel().\n",
      "  result = super(NeighborsBase, self)._fit(X, y)\n",
      "C:\\Users\\nikti\\miniconda3\\envs\\nlp\\lib\\site-packages\\daal4py\\sklearn\\neighbors\\_base.py:357: DataConversionWarning: A column-vector y was passed when a 1d array was expected. Please change the shape of y to (n_samples,), for example using ravel().\n",
      "  result = super(NeighborsBase, self)._fit(X, y)\n",
      "C:\\Users\\nikti\\miniconda3\\envs\\nlp\\lib\\site-packages\\daal4py\\sklearn\\neighbors\\_base.py:357: DataConversionWarning: A column-vector y was passed when a 1d array was expected. Please change the shape of y to (n_samples,), for example using ravel().\n",
      "  result = super(NeighborsBase, self)._fit(X, y)\n",
      "C:\\Users\\nikti\\miniconda3\\envs\\nlp\\lib\\site-packages\\daal4py\\sklearn\\neighbors\\_base.py:357: DataConversionWarning: A column-vector y was passed when a 1d array was expected. Please change the shape of y to (n_samples,), for example using ravel().\n",
      "  result = super(NeighborsBase, self)._fit(X, y)\n",
      "C:\\Users\\nikti\\miniconda3\\envs\\nlp\\lib\\site-packages\\daal4py\\sklearn\\neighbors\\_base.py:357: DataConversionWarning: A column-vector y was passed when a 1d array was expected. Please change the shape of y to (n_samples,), for example using ravel().\n",
      "  result = super(NeighborsBase, self)._fit(X, y)\n",
      " 80%|████████  | 8/10 [3:16:14<37:42, 1131.19s/it]  C:\\Users\\nikti\\miniconda3\\envs\\nlp\\lib\\site-packages\\daal4py\\sklearn\\neighbors\\_base.py:357: DataConversionWarning: A column-vector y was passed when a 1d array was expected. Please change the shape of y to (n_samples,), for example using ravel().\n",
      "  result = super(NeighborsBase, self)._fit(X, y)\n"
     ]
    },
    {
     "name": "stdout",
     "output_type": "stream",
     "text": [
      "\u001b[32m[I 2021-11-29 14:06:40,443]\u001b[0m Trial 7 finished with value: 0.79125 and parameters: {'n_neighbors': 34, 'n_estimators': 242, 'min_samples_split': 10, 'min_samples_leaf': 10, 'C': 0.1034411659429407}. Best is trial 5 with value: 0.8054166666666667.\u001b[0m\n"
     ]
    },
    {
     "name": "stderr",
     "output_type": "stream",
     "text": [
      "C:\\Users\\nikti\\miniconda3\\envs\\nlp\\lib\\site-packages\\daal4py\\sklearn\\neighbors\\_base.py:357: DataConversionWarning: A column-vector y was passed when a 1d array was expected. Please change the shape of y to (n_samples,), for example using ravel().\n",
      "  result = super(NeighborsBase, self)._fit(X, y)\n",
      "C:\\Users\\nikti\\miniconda3\\envs\\nlp\\lib\\site-packages\\daal4py\\sklearn\\neighbors\\_base.py:357: DataConversionWarning: A column-vector y was passed when a 1d array was expected. Please change the shape of y to (n_samples,), for example using ravel().\n",
      "  result = super(NeighborsBase, self)._fit(X, y)\n",
      "C:\\Users\\nikti\\miniconda3\\envs\\nlp\\lib\\site-packages\\daal4py\\sklearn\\neighbors\\_base.py:357: DataConversionWarning: A column-vector y was passed when a 1d array was expected. Please change the shape of y to (n_samples,), for example using ravel().\n",
      "  result = super(NeighborsBase, self)._fit(X, y)\n",
      "C:\\Users\\nikti\\miniconda3\\envs\\nlp\\lib\\site-packages\\daal4py\\sklearn\\neighbors\\_base.py:357: DataConversionWarning: A column-vector y was passed when a 1d array was expected. Please change the shape of y to (n_samples,), for example using ravel().\n",
      "  result = super(NeighborsBase, self)._fit(X, y)\n",
      "C:\\Users\\nikti\\miniconda3\\envs\\nlp\\lib\\site-packages\\daal4py\\sklearn\\neighbors\\_base.py:357: DataConversionWarning: A column-vector y was passed when a 1d array was expected. Please change the shape of y to (n_samples,), for example using ravel().\n",
      "  result = super(NeighborsBase, self)._fit(X, y)\n",
      " 90%|█████████ | 9/10 [3:23:14<15:08, 908.84s/it] C:\\Users\\nikti\\miniconda3\\envs\\nlp\\lib\\site-packages\\daal4py\\sklearn\\neighbors\\_base.py:357: DataConversionWarning: A column-vector y was passed when a 1d array was expected. Please change the shape of y to (n_samples,), for example using ravel().\n",
      "  result = super(NeighborsBase, self)._fit(X, y)\n"
     ]
    },
    {
     "name": "stdout",
     "output_type": "stream",
     "text": [
      "\u001b[32m[I 2021-11-29 14:13:40,378]\u001b[0m Trial 8 finished with value: 0.7997916666666667 and parameters: {'n_neighbors': 64, 'n_estimators': 102, 'min_samples_split': 4, 'min_samples_leaf': 5, 'C': 85.20660531158539}. Best is trial 5 with value: 0.8054166666666667.\u001b[0m\n"
     ]
    },
    {
     "name": "stderr",
     "output_type": "stream",
     "text": [
      "C:\\Users\\nikti\\miniconda3\\envs\\nlp\\lib\\site-packages\\daal4py\\sklearn\\neighbors\\_base.py:357: DataConversionWarning: A column-vector y was passed when a 1d array was expected. Please change the shape of y to (n_samples,), for example using ravel().\n",
      "  result = super(NeighborsBase, self)._fit(X, y)\n",
      "C:\\Users\\nikti\\miniconda3\\envs\\nlp\\lib\\site-packages\\daal4py\\sklearn\\neighbors\\_base.py:357: DataConversionWarning: A column-vector y was passed when a 1d array was expected. Please change the shape of y to (n_samples,), for example using ravel().\n",
      "  result = super(NeighborsBase, self)._fit(X, y)\n",
      "C:\\Users\\nikti\\miniconda3\\envs\\nlp\\lib\\site-packages\\daal4py\\sklearn\\neighbors\\_base.py:357: DataConversionWarning: A column-vector y was passed when a 1d array was expected. Please change the shape of y to (n_samples,), for example using ravel().\n",
      "  result = super(NeighborsBase, self)._fit(X, y)\n",
      "C:\\Users\\nikti\\miniconda3\\envs\\nlp\\lib\\site-packages\\daal4py\\sklearn\\neighbors\\_base.py:357: DataConversionWarning: A column-vector y was passed when a 1d array was expected. Please change the shape of y to (n_samples,), for example using ravel().\n",
      "  result = super(NeighborsBase, self)._fit(X, y)\n",
      "C:\\Users\\nikti\\miniconda3\\envs\\nlp\\lib\\site-packages\\daal4py\\sklearn\\neighbors\\_base.py:357: DataConversionWarning: A column-vector y was passed when a 1d array was expected. Please change the shape of y to (n_samples,), for example using ravel().\n",
      "  result = super(NeighborsBase, self)._fit(X, y)\n",
      "100%|██████████| 10/10 [3:38:16<00:00, 1309.62s/it]"
     ]
    },
    {
     "name": "stdout",
     "output_type": "stream",
     "text": [
      "\u001b[32m[I 2021-11-29 14:28:41,648]\u001b[0m Trial 9 finished with value: 0.8033333333333333 and parameters: {'n_neighbors': 29, 'n_estimators': 267, 'min_samples_split': 10, 'min_samples_leaf': 6, 'C': 0.8001219894116979}. Best is trial 5 with value: 0.8054166666666667.\u001b[0m\n"
     ]
    },
    {
     "name": "stderr",
     "output_type": "stream",
     "text": [
      "\n"
     ]
    }
   ],
   "source": [
    "study_acc_log_reg = optimize(get_stacking_1, x_train, y_train, x_val, y_val)"
   ]
  },
  {
   "cell_type": "code",
   "execution_count": 66,
   "metadata": {},
   "outputs": [
    {
     "name": "stderr",
     "output_type": "stream",
     "text": [
      "C:\\Users\\nikti\\miniconda3\\envs\\nlp\\lib\\site-packages\\daal4py\\sklearn\\neighbors\\_base.py:357: DataConversionWarning: A column-vector y was passed when a 1d array was expected. Please change the shape of y to (n_samples,), for example using ravel().\n",
      "  result = super(NeighborsBase, self)._fit(X, y)\n",
      "C:\\Users\\nikti\\miniconda3\\envs\\nlp\\lib\\site-packages\\daal4py\\sklearn\\neighbors\\_base.py:357: DataConversionWarning: A column-vector y was passed when a 1d array was expected. Please change the shape of y to (n_samples,), for example using ravel().\n",
      "  result = super(NeighborsBase, self)._fit(X, y)\n",
      "C:\\Users\\nikti\\miniconda3\\envs\\nlp\\lib\\site-packages\\daal4py\\sklearn\\neighbors\\_base.py:357: DataConversionWarning: A column-vector y was passed when a 1d array was expected. Please change the shape of y to (n_samples,), for example using ravel().\n",
      "  result = super(NeighborsBase, self)._fit(X, y)\n",
      "C:\\Users\\nikti\\miniconda3\\envs\\nlp\\lib\\site-packages\\daal4py\\sklearn\\neighbors\\_base.py:357: DataConversionWarning: A column-vector y was passed when a 1d array was expected. Please change the shape of y to (n_samples,), for example using ravel().\n",
      "  result = super(NeighborsBase, self)._fit(X, y)\n",
      "C:\\Users\\nikti\\miniconda3\\envs\\nlp\\lib\\site-packages\\daal4py\\sklearn\\neighbors\\_base.py:357: DataConversionWarning: A column-vector y was passed when a 1d array was expected. Please change the shape of y to (n_samples,), for example using ravel().\n",
      "  result = super(NeighborsBase, self)._fit(X, y)\n",
      "C:\\Users\\nikti\\miniconda3\\envs\\nlp\\lib\\site-packages\\daal4py\\sklearn\\neighbors\\_base.py:357: DataConversionWarning: A column-vector y was passed when a 1d array was expected. Please change the shape of y to (n_samples,), for example using ravel().\n",
      "  result = super(NeighborsBase, self)._fit(X, y)\n"
     ]
    }
   ],
   "source": [
    "prediction = objective_function(lambda trial: get_stacking_1(n_neighbors=study_acc_log_reg.best_params['n_neighbors'],\n",
    "                                                             n_estimators=study_acc_log_reg.best_params['n_estimators'],\n",
    "                                                             min_samples_split=study_acc_log_reg.best_params['min_samples_split'],\n",
    "                                                             min_samples_leaf=study_acc_log_reg.best_params['min_samples_leaf'],\n",
    "                                                             C=study_acc_log_reg.best_params['C']),\n",
    "                                sparse.hstack([x_full_train_title_tfidf, x_full_train_body_tfidf, tags_train]),\n",
    "                                labels,\n",
    "                                sparse.hstack([x_test_title_tfidf, x_test_body_tfidf, tags_test]))"
   ]
  },
  {
   "cell_type": "code",
   "execution_count": 67,
   "metadata": {},
   "outputs": [],
   "source": [
    "submission = pd.DataFrame({'Id': test_df.index, 'Predicted': prediction})\n",
    "submission.to_csv('submissions/tfidf_stacking_1.csv', index=False)"
   ]
  },
  {
   "cell_type": "code",
   "execution_count": null,
   "metadata": {},
   "outputs": [],
   "source": []
  }
 ],
 "metadata": {
  "interpreter": {
   "hash": "9f5a2599355624a556240fdc3f0627c4e0016588722ee170139ef0bcc4cc5fb5"
  },
  "kernelspec": {
   "display_name": "Python 3.8.12 64-bit ('nlp': conda)",
   "language": "python",
   "name": "python3"
  },
  "language_info": {
   "codemirror_mode": {
    "name": "ipython",
    "version": 3
   },
   "file_extension": ".py",
   "mimetype": "text/x-python",
   "name": "python",
   "nbconvert_exporter": "python",
   "pygments_lexer": "ipython3",
   "version": "3.8.12"
  },
  "orig_nbformat": 4
 },
 "nbformat": 4,
 "nbformat_minor": 2
}
